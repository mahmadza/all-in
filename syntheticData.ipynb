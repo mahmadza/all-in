{
 "cells": [
  {
   "cell_type": "markdown",
   "id": "65e47845-cb8a-44e6-85df-54d61776cd09",
   "metadata": {},
   "source": [
    "## Recreate Analysis Using Synthetic Data"
   ]
  },
  {
   "cell_type": "code",
   "execution_count": null,
   "id": "6be37251-ffce-4321-8196-cf190a180019",
   "metadata": {},
   "outputs": [],
   "source": [
    "real_data <- read.csv(file = 'IPO_2017to2022.csv')"
   ]
  }
 ],
 "metadata": {
  "kernelspec": {
   "display_name": "ML_2022",
   "language": "python",
   "name": "ml_2022"
  },
  "language_info": {
   "codemirror_mode": {
    "name": "ipython",
    "version": 3
   },
   "file_extension": ".py",
   "mimetype": "text/x-python",
   "name": "python",
   "nbconvert_exporter": "python",
   "pygments_lexer": "ipython3",
   "version": "3.7.7"
  }
 },
 "nbformat": 4,
 "nbformat_minor": 5
}
