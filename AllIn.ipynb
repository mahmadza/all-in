{
 "cells": [
  {
   "cell_type": "markdown",
   "id": "6ee9b9da-ddb6-4804-98ae-541affc12459",
   "metadata": {},
   "source": [
    "# Analysis of Public Interest on Initial Public Offering (IPO) on Bursa Malaysia"
   ]
  },
  {
   "cell_type": "markdown",
   "id": "42106605-4b39-4359-bdc7-956853436eec",
   "metadata": {},
   "source": [
    "Initial Public Offering (IPO) is where shares of a company are offered to investors, both institutional and the public.\n",
    "\n",
    "Here I look at public interest towards IPO on Bursa Malaysia over years of 2017 till 1H2022.\n",
    "\n",
    "Data was collected from the Internet 2017 till 2022. Sources are online only, including Bursa Malaysia, The Edge websites and many more.\n",
    "\n",
    "Data was collected manually, hence there could be errors in the numbers - read that again - data was collected manually, hence there could be errors in the numbers. I also made no effort to verify the data after initial collection.\n",
    "\n",
    "Only IPOs that could be subscribed by the public on the Main and ACE markets was included, e.g IPOs on the LEAP market or IPOs or ETFs were not included. \n",
    "\n",
    "<b>This exercise is for entertainment purpose only. Do not trade shares based on this exercise. Trading shares involve capital loss and emotional pain. Please consult your investment advisor before embarking on any financial exercise.</b>\n",
    "\n",
    "For exercises below, I divided the analyses by listing price below RM1 (<RM1), and listing price at least RM1 (>=RM1)."
   ]
  },
  {
   "cell_type": "code",
   "execution_count": 1,
   "id": "98031001-d64d-4e83-b266-d76bb6fcf3d5",
   "metadata": {},
   "outputs": [],
   "source": [
    "import pandas as pd\n",
    "from statistics import stdev\n",
    "import matplotlib.pyplot as plt\n",
    "import numpy as np\n",
    "import seaborn as sns\n",
    "import scipy\n",
    "from scipy import stats\n",
    "\n",
    "import warnings\n",
    "warnings.filterwarnings('ignore')"
   ]
  },
  {
   "cell_type": "code",
   "execution_count": 2,
   "id": "4d9d2cfa-aaa5-4ef5-81fa-8927f1d910e4",
   "metadata": {},
   "outputs": [
    {
     "data": {
      "text/html": [
       "<div>\n",
       "<style scoped>\n",
       "    .dataframe tbody tr th:only-of-type {\n",
       "        vertical-align: middle;\n",
       "    }\n",
       "\n",
       "    .dataframe tbody tr th {\n",
       "        vertical-align: top;\n",
       "    }\n",
       "\n",
       "    .dataframe thead th {\n",
       "        text-align: right;\n",
       "    }\n",
       "</style>\n",
       "<table border=\"1\" class=\"dataframe\">\n",
       "  <thead>\n",
       "    <tr style=\"text-align: right;\">\n",
       "      <th></th>\n",
       "      <th>TICKER</th>\n",
       "      <th>MARKET</th>\n",
       "      <th>YEAR</th>\n",
       "      <th>LISTPRICE</th>\n",
       "      <th>VOLUMEIPODAY</th>\n",
       "      <th>OPENPRICEIPODAY</th>\n",
       "      <th>HIGHESTPRICEIPODAY</th>\n",
       "      <th>CLOSINGPRICEIPODAY</th>\n",
       "      <th>NEWSHARES</th>\n",
       "      <th>TOTALAPPLICATIONS</th>\n",
       "      <th>...</th>\n",
       "      <th>XBUMIAPPLICATIONS</th>\n",
       "      <th>XBUMIAPPLICATIONSHARES</th>\n",
       "      <th>XBUMIBALLOTINGOSCBED</th>\n",
       "      <th>ELIGPERSONSSHARES</th>\n",
       "      <th>PVPLACEMENTSHARES</th>\n",
       "      <th>OFFERFORSALE</th>\n",
       "      <th>CAPITALRAISED</th>\n",
       "      <th>PUBLICISSUENEWSHARES</th>\n",
       "      <th>ENLARGEDSHARECAPITAL</th>\n",
       "      <th>MARKETCAPONLISTING</th>\n",
       "    </tr>\n",
       "  </thead>\n",
       "  <tbody>\n",
       "    <tr>\n",
       "      <th>0</th>\n",
       "      <td>SIAB</td>\n",
       "      <td>ACE</td>\n",
       "      <td>2022</td>\n",
       "      <td>0.30</td>\n",
       "      <td>1883042</td>\n",
       "      <td>0.31</td>\n",
       "      <td>0.340</td>\n",
       "      <td>0.310</td>\n",
       "      <td>NaN</td>\n",
       "      <td>NaN</td>\n",
       "      <td>...</td>\n",
       "      <td>NaN</td>\n",
       "      <td>NaN</td>\n",
       "      <td>NaN</td>\n",
       "      <td>NaN</td>\n",
       "      <td>NaN</td>\n",
       "      <td>NaN</td>\n",
       "      <td>NaN</td>\n",
       "      <td>NaN</td>\n",
       "      <td>NaN</td>\n",
       "      <td>NaN</td>\n",
       "    </tr>\n",
       "    <tr>\n",
       "      <th>1</th>\n",
       "      <td>FARMFRESH</td>\n",
       "      <td>MAIN</td>\n",
       "      <td>2022</td>\n",
       "      <td>1.35</td>\n",
       "      <td>3304055</td>\n",
       "      <td>1.70</td>\n",
       "      <td>1.860</td>\n",
       "      <td>1.720</td>\n",
       "      <td>NaN</td>\n",
       "      <td>NaN</td>\n",
       "      <td>...</td>\n",
       "      <td>NaN</td>\n",
       "      <td>NaN</td>\n",
       "      <td>NaN</td>\n",
       "      <td>NaN</td>\n",
       "      <td>NaN</td>\n",
       "      <td>NaN</td>\n",
       "      <td>NaN</td>\n",
       "      <td>NaN</td>\n",
       "      <td>NaN</td>\n",
       "      <td>NaN</td>\n",
       "    </tr>\n",
       "    <tr>\n",
       "      <th>2</th>\n",
       "      <td>PAPPAJACK</td>\n",
       "      <td>ACE</td>\n",
       "      <td>2022</td>\n",
       "      <td>0.30</td>\n",
       "      <td>2023024</td>\n",
       "      <td>0.39</td>\n",
       "      <td>0.400</td>\n",
       "      <td>0.395</td>\n",
       "      <td>NaN</td>\n",
       "      <td>NaN</td>\n",
       "      <td>...</td>\n",
       "      <td>NaN</td>\n",
       "      <td>NaN</td>\n",
       "      <td>NaN</td>\n",
       "      <td>NaN</td>\n",
       "      <td>NaN</td>\n",
       "      <td>NaN</td>\n",
       "      <td>NaN</td>\n",
       "      <td>NaN</td>\n",
       "      <td>NaN</td>\n",
       "      <td>NaN</td>\n",
       "    </tr>\n",
       "    <tr>\n",
       "      <th>3</th>\n",
       "      <td>MNHOLDINGS</td>\n",
       "      <td>ACE</td>\n",
       "      <td>2022</td>\n",
       "      <td>0.21</td>\n",
       "      <td>2125489</td>\n",
       "      <td>0.26</td>\n",
       "      <td>0.275</td>\n",
       "      <td>0.235</td>\n",
       "      <td>NaN</td>\n",
       "      <td>NaN</td>\n",
       "      <td>...</td>\n",
       "      <td>NaN</td>\n",
       "      <td>NaN</td>\n",
       "      <td>NaN</td>\n",
       "      <td>NaN</td>\n",
       "      <td>NaN</td>\n",
       "      <td>NaN</td>\n",
       "      <td>NaN</td>\n",
       "      <td>NaN</td>\n",
       "      <td>NaN</td>\n",
       "      <td>NaN</td>\n",
       "    </tr>\n",
       "    <tr>\n",
       "      <th>4</th>\n",
       "      <td>LGMS</td>\n",
       "      <td>ACE</td>\n",
       "      <td>2022</td>\n",
       "      <td>0.50</td>\n",
       "      <td>2469975</td>\n",
       "      <td>0.60</td>\n",
       "      <td>0.845</td>\n",
       "      <td>0.845</td>\n",
       "      <td>NaN</td>\n",
       "      <td>NaN</td>\n",
       "      <td>...</td>\n",
       "      <td>NaN</td>\n",
       "      <td>NaN</td>\n",
       "      <td>NaN</td>\n",
       "      <td>NaN</td>\n",
       "      <td>NaN</td>\n",
       "      <td>NaN</td>\n",
       "      <td>NaN</td>\n",
       "      <td>NaN</td>\n",
       "      <td>NaN</td>\n",
       "      <td>NaN</td>\n",
       "    </tr>\n",
       "  </tbody>\n",
       "</table>\n",
       "<p>5 rows × 25 columns</p>\n",
       "</div>"
      ],
      "text/plain": [
       "       TICKER MARKET  YEAR  LISTPRICE  VOLUMEIPODAY  OPENPRICEIPODAY  \\\n",
       "0        SIAB    ACE  2022       0.30       1883042             0.31   \n",
       "1   FARMFRESH   MAIN  2022       1.35       3304055             1.70   \n",
       "2   PAPPAJACK    ACE  2022       0.30       2023024             0.39   \n",
       "3  MNHOLDINGS    ACE  2022       0.21       2125489             0.26   \n",
       "4        LGMS    ACE  2022       0.50       2469975             0.60   \n",
       "\n",
       "   HIGHESTPRICEIPODAY  CLOSINGPRICEIPODAY  NEWSHARES  TOTALAPPLICATIONS  ...  \\\n",
       "0               0.340               0.310        NaN                NaN  ...   \n",
       "1               1.860               1.720        NaN                NaN  ...   \n",
       "2               0.400               0.395        NaN                NaN  ...   \n",
       "3               0.275               0.235        NaN                NaN  ...   \n",
       "4               0.845               0.845        NaN                NaN  ...   \n",
       "\n",
       "   XBUMIAPPLICATIONS  XBUMIAPPLICATIONSHARES  XBUMIBALLOTINGOSCBED  \\\n",
       "0                NaN                     NaN                   NaN   \n",
       "1                NaN                     NaN                   NaN   \n",
       "2                NaN                     NaN                   NaN   \n",
       "3                NaN                     NaN                   NaN   \n",
       "4                NaN                     NaN                   NaN   \n",
       "\n",
       "   ELIGPERSONSSHARES  PVPLACEMENTSHARES  OFFERFORSALE  CAPITALRAISED  \\\n",
       "0                NaN                NaN           NaN            NaN   \n",
       "1                NaN                NaN           NaN            NaN   \n",
       "2                NaN                NaN           NaN            NaN   \n",
       "3                NaN                NaN           NaN            NaN   \n",
       "4                NaN                NaN           NaN            NaN   \n",
       "\n",
       "   PUBLICISSUENEWSHARES  ENLARGEDSHARECAPITAL  MARKETCAPONLISTING  \n",
       "0                   NaN                   NaN                 NaN  \n",
       "1                   NaN                   NaN                 NaN  \n",
       "2                   NaN                   NaN                 NaN  \n",
       "3                   NaN                   NaN                 NaN  \n",
       "4                   NaN                   NaN                 NaN  \n",
       "\n",
       "[5 rows x 25 columns]"
      ]
     },
     "execution_count": 2,
     "metadata": {},
     "output_type": "execute_result"
    }
   ],
   "source": [
    "df = pd.read_csv(\"IPO_2017to2022.csv\")\n",
    "df.head()"
   ]
  },
  {
   "cell_type": "markdown",
   "id": "84afff2f-6ed7-4243-9900-0b066db29fd2",
   "metadata": {},
   "source": [
    "Note that here many columns such as NEWSHARES and TOTALAPPLICATIONS are not populated, as they are used in this current analysis."
   ]
  },
  {
   "cell_type": "markdown",
   "id": "9d80325f-6894-4fbe-b309-9002b4d24497",
   "metadata": {},
   "source": [
    "### Feature Engineering and Data Clean-Up"
   ]
  },
  {
   "cell_type": "code",
   "execution_count": 3,
   "id": "e8d6b734-2ec9-46e3-8254-1d0e411efc41",
   "metadata": {},
   "outputs": [],
   "source": [
    "# Create following columns:\n",
    "# % difference between list price vs opening price on IPO day\n",
    "# % difference between list price vs highest price on IPO day\n",
    "# % difference between opening price on IPO day vs closing price on IPO day\n",
    "# % difference between opening price on IPO day vs highest price on IPO day\n",
    "\n",
    "df['LISTVSOPENING_PCT'] = df['OPENPRICEIPODAY']/df['LISTPRICE']*100 - 100\n",
    "df['LISTVSHIGHEST_PCT'] = df['HIGHESTPRICEIPODAY']/df['LISTPRICE']*100 - 100\n",
    "df['LISTVSCLOSING_PCT'] = df['CLOSINGPRICEIPODAY']/df['LISTPRICE']*100 - 100"
   ]
  },
  {
   "cell_type": "code",
   "execution_count": 4,
   "id": "77cf9b55-7400-43ff-a854-76986aeea054",
   "metadata": {},
   "outputs": [],
   "source": [
    "# remove Lotte Chemical as it was undersubscribed\n",
    "df = df[df['TICKER']!='LOTTE']"
   ]
  },
  {
   "cell_type": "code",
   "execution_count": 5,
   "id": "2536b955-0f17-4312-8508-16c08d306b55",
   "metadata": {},
   "outputs": [
    {
     "data": {
      "text/plain": [
       "(77, 28)"
      ]
     },
     "execution_count": 5,
     "metadata": {},
     "output_type": "execute_result"
    }
   ],
   "source": [
    "df.shape"
   ]
  },
  {
   "cell_type": "code",
   "execution_count": 6,
   "id": "a96b1bbb-37d6-417e-a8f3-b18be1663683",
   "metadata": {},
   "outputs": [
    {
     "data": {
      "text/plain": [
       "[2017, 2018, 2019, 2020, 2021, 2022]"
      ]
     },
     "execution_count": 6,
     "metadata": {},
     "output_type": "execute_result"
    }
   ],
   "source": [
    "# grab all available years\n",
    "years = df['YEAR'].unique().tolist()[::-1]\n",
    "years"
   ]
  },
  {
   "cell_type": "markdown",
   "id": "1039bc95-6eae-45e0-b44b-4accab0795cf",
   "metadata": {},
   "source": [
    "## Measuring Subscription Interest: Oversubscription Rate by Year\n",
    "\n",
    "I first ask this question: how does public interest towards IPOs change over the years? I am interested in this question since I have encountered anecdotes from acquaintances and friends that it is getting harder to get any units from IPO offering since past years."
   ]
  },
  {
   "cell_type": "code",
   "execution_count": 7,
   "id": "61f8bc38-66f7-41c0-b676-dcc0c5e98634",
   "metadata": {},
   "outputs": [],
   "source": [
    "# function to calculate bar height, bar error bars and counts, after dividing by RM<1 and RM>=1\n",
    "\n",
    "def calculate_bardata(years, df, targetvar):\n",
    "\n",
    "    barheight = {}\n",
    "    barheight['lt1'] = {}\n",
    "    barheight['mt1'] = {}\n",
    "\n",
    "    barerr = {}\n",
    "    barerr['lt1'] = {}\n",
    "    barerr['mt1'] = {}\n",
    "\n",
    "    count = {}\n",
    "    count['lt1']={}\n",
    "    count['mt1']={}\n",
    "\n",
    "    for year in years:\n",
    "        # for < RM1\n",
    "        df_series_lt1 = df[((df['YEAR']==year)  & (df['LISTPRICE']<1))][targetvar]\n",
    "\n",
    "        count['lt1'][year] = df_series_lt1.count()\n",
    "        mean_year_lt1 = round(df_series_lt1.mean(),2)\n",
    "\n",
    "        barheight['lt1'][year] = mean_year_lt1\n",
    "        if df_series_lt1.count() >1:\n",
    "            barerr['lt1'][year] = round(stdev(df_series_lt1),2)\n",
    "        else:\n",
    "            barerr['lt1'][year] = 0\n",
    "\n",
    "        df_series_mt1 = df[((df['YEAR']==year)  & (df['LISTPRICE']>=1))][targetvar]\n",
    "\n",
    "        count['mt1'][year] = df_series_mt1.count()\n",
    "        mean_year_mt1 = round(df_series_mt1.mean(),2)\n",
    "\n",
    "        barheight['mt1'][year] = mean_year_mt1\n",
    "        if df_series_mt1.count() >1:\n",
    "            barerr['mt1'][year] = round(stdev(df_series_mt1),2)\n",
    "        else:\n",
    "            barerr['mt1'][year] = 0\n",
    "            \n",
    "    return count, barheight, barerr"
   ]
  },
  {
   "cell_type": "code",
   "execution_count": 8,
   "id": "441cecc9-358c-401b-8b39-9661c6c43388",
   "metadata": {},
   "outputs": [
    {
     "name": "stdout",
     "output_type": "stream",
     "text": [
      "For listing price < RM1:\n",
      "2017(7): mean 36.03, stdev 23.4\n",
      "2018(10): mean 18.15, stdev 13.09\n",
      "2019(13): mean 13.3, stdev 8.81\n",
      "2020(10): mean 30.98, stdev 25.01\n",
      "2021(14): mean 75.15, stdev 53.15\n",
      "2022(11): mean 47.96, stdev 40.81\n",
      "\n",
      "For listing price >= RM1:\n",
      "2017(3): mean 6.34, stdev 2.3\n",
      "2018(1): mean 1.16, stdev 0\n",
      "2019(2): mean 4.01, stdev 0.53\n",
      "2020(1): mean 3.91, stdev 0\n",
      "2021(3): mean 22.23, stdev 4.68\n",
      "2022(2): mean 14.59, stdev 5.87\n"
     ]
    }
   ],
   "source": [
    "\n",
    "count, barheight, barerr = calculate_bardata(years, df, 'TOTALBALLOTINGOSCBED')\n",
    "\n",
    "print(\"For listing price < RM1:\")\n",
    "for year in years:\n",
    "    print(str(year) + '(' + str(count['lt1'][year]) + '): mean ' + str(barheight['lt1'][year]) + \n",
    "         ', stdev ' + str(barerr['lt1'][year]))\n",
    "\n",
    "print()\n",
    "print(\"For listing price >= RM1:\")\n",
    "for year in years:\n",
    "    print(str(year) + '(' + str(count['mt1'][year]) + '): mean ' + str(barheight['mt1'][year]) + \n",
    "         ', stdev ' + str(barerr['mt1'][year]))\n"
   ]
  },
  {
   "cell_type": "code",
   "execution_count": 9,
   "id": "09e29890-b199-4010-9104-0997e3c5bcdf",
   "metadata": {},
   "outputs": [
    {
     "data": {
      "image/png": "[encoded data removed]",
      "text/plain": [
       "<Figure size 432x288 with 1 Axes>"
      ]
     },
     "metadata": {
      "needs_background": "light"
     },
     "output_type": "display_data"
    }
   ],
   "source": [
    "fig, ax = plt.subplots()\n",
    "xpos = np.arange(len(barerr['lt1']))\n",
    "width = 0.4\n",
    "plt.bar(xpos-0.2, list(barheight['lt1'].values()), width, yerr=list(barerr['lt1'].values()), ecolor='black', capsize=10)\n",
    "plt.bar(xpos+0.2, list(barheight['mt1'].values()), width, yerr=list(barerr['mt1'].values()), ecolor='black', capsize=10)\n",
    "\n",
    "ax.set_xticks(xpos)\n",
    "ax.set_xticklabels(years)\n",
    "ax.set_ylabel('Oversubscription, times')\n",
    "plt.title('Oversubscription Rate By Year')\n",
    "plt.legend([\"Listing Price < RM1\", \"Listing Price  >= RM1\"])\n",
    "\n",
    "plt.tight_layout()\n",
    "plt.show()"
   ]
  },
  {
   "cell_type": "markdown",
   "id": "1f71962b-8294-49d2-b84d-ba1194b8b92b",
   "metadata": {},
   "source": [
    "Here you see from 2017 till 2019, oversubscription for IPOs goes down. Interestingly, things changed dramatically since then, where it more than doubled from 2019 to 2020, and again in 2020 to 2021 (for price less than RM1).\n",
    "Also note that oversubcription is much lower in general for IPOs with listing price more than RM1.\n",
    "\n",
    "The huge increase in ovesubscription rate starting in 2020 is consistent with the heightened interest from the public in the stock market as stay-at-home orders were issued due to Covid: we did not only see higher trading volume on the open market in general (as have been covered by many analysts and reports), we also see higher subscription to the IPOs offered.\n",
    "\n",
    "Also, it looks like interest for IPO in 2022 (at least for 1H) has waned when compared to 2021."
   ]
  },
  {
   "cell_type": "markdown",
   "id": "0c26e400-7525-4f0d-ad78-3cc31e9e0ebb",
   "metadata": {},
   "source": [
    "## Measuring Speculative Activity on IPO Day: Volume on IPO day by Year\n",
    "I now ask the question, if there is an increase in public interest from 2019 to 2021 as measured by the oversubscription rate, does this translate into higher trading volume on the counter on IPO day?\n",
    "\n",
    "One scenario that I could imagine is that, could it be that other people who did not get the IPO, also participate on the counter on IPO day (although this can't be proven directly unless we track the trading tickets that day and compare their executers vs list of IPO awardees)?"
   ]
  },
  {
   "cell_type": "code",
   "execution_count": 10,
   "id": "c129d9e1-549f-4cc4-bcc3-39cacf756626",
   "metadata": {},
   "outputs": [
    {
     "name": "stdout",
     "output_type": "stream",
     "text": [
      "For listing price < RM1:\n",
      "2017(7): mean 1178970.71, stdev 1000184.04\n",
      "2018(10): mean 1010671.4, stdev 591685.52\n",
      "2019(13): mean 1644805.92, stdev 1310669.49\n",
      "2020(10): mean 2046393.3, stdev 750481.12\n",
      "2021(14): mean 1583495.0, stdev 849490.25\n",
      "2022(11): mean 1998177.18, stdev 596084.85\n",
      "\n",
      "For listing price >= RM1:\n",
      "2017(3): mean 282241.67, stdev 339303.22\n",
      "2018(1): mean 736832.0, stdev 0\n",
      "2019(2): mean 1325753.0, stdev 1171305.41\n",
      "2020(1): mean 4101546.0, stdev 0\n",
      "2021(3): mean 2373199.0, stdev 1126551.55\n",
      "2022(2): mean 2469770.5, stdev 1179856.45\n"
     ]
    }
   ],
   "source": [
    "count, barheight, barerr = calculate_bardata(years, df, 'VOLUMEIPODAY')\n",
    "print(\"For listing price < RM1:\")\n",
    "for year in years:\n",
    "    print(str(year) + '(' + str(count['lt1'][year]) + '): mean ' + str(barheight['lt1'][year]) + \n",
    "         ', stdev ' + str(barerr['lt1'][year]))\n",
    "\n",
    "print()\n",
    "print(\"For listing price >= RM1:\")\n",
    "for year in years:\n",
    "    print(str(year) + '(' + str(count['mt1'][year]) + '): mean ' + str(barheight['mt1'][year]) + \n",
    "         ', stdev ' + str(barerr['mt1'][year]))\n"
   ]
  },
  {
   "cell_type": "code",
   "execution_count": 11,
   "id": "5c309852-63b8-466d-8927-240c39ee9fb7",
   "metadata": {},
   "outputs": [
    {
     "data": {
      "image/png": "[encoded data removed]",
      "text/plain": [
       "<Figure size 432x288 with 1 Axes>"
      ]
     },
     "metadata": {
      "needs_background": "light"
     },
     "output_type": "display_data"
    }
   ],
   "source": [
    "fig, ax = plt.subplots()\n",
    "xpos = np.arange(len(barerr['lt1']))\n",
    "width = 0.4\n",
    "plt.bar(xpos-0.2, list(barheight['lt1'].values()), width, yerr=list(barerr['lt1'].values()), ecolor='black', capsize=10)\n",
    "plt.bar(xpos+0.2, list(barheight['mt1'].values()), width, yerr=list(barerr['mt1'].values()), ecolor='black', capsize=10)\n",
    "\n",
    "ax.set_xticks(xpos)\n",
    "ax.set_xticklabels(years)\n",
    "ax.set_ylabel('Volume on IPO day (millions)')\n",
    "plt.title('Volume on IPO day (millions) by Year')\n",
    "plt.legend([\"Listing Price  <   RM1\", \"Listing Price  >= RM1\"])\n",
    "\n",
    "plt.tight_layout()\n",
    "plt.show()"
   ]
  },
  {
   "cell_type": "markdown",
   "id": "eab2c7c3-0dcf-466c-945d-ed8da91f9436",
   "metadata": {},
   "source": [
    "Interestingly we see that 2020 is the year with highest volume on IPOed counter on IPO day (even though it was 2021 is the year with the highest oversubscription). In 2021 and 2022, the volume on IPOed counter decreased a bit vis-a-vis 2020, but still slightly above 2019. This suggests that maybe after 2019, there are more participants on the IPO day."
   ]
  },
  {
   "cell_type": "markdown",
   "id": "7d8d58e2-7310-4331-9134-b0b538d46726",
   "metadata": {},
   "source": [
    "## Measuring Speculative Activity on IPO Day: % Difference between Listing vs Opening Price"
   ]
  },
  {
   "cell_type": "markdown",
   "id": "c634aef6-3691-43ad-aa39-a9f1a3f10775",
   "metadata": {},
   "source": [
    "Now we see a higher volume on average on the IPOed counter on IPO day in 2020 (and also 2021), does this translate into more price movement on that day? Specifically I am interested in seeing the percentage difference between:\n",
    "\n",
    "1. listing price versus opening price (first matched ticket at 9AM)\n",
    "2. listing price versus highest price at any time during IPO day.\n",
    "\n",
    "Let's look at (1) first."
   ]
  },
  {
   "cell_type": "code",
   "execution_count": 12,
   "id": "8407228e-d869-4bb3-bc13-68284a0b1673",
   "metadata": {},
   "outputs": [
    {
     "name": "stdout",
     "output_type": "stream",
     "text": [
      "For listing price < RM1:\n",
      "2017(7): mean 22.94, stdev 8.69\n",
      "2018(10): mean 33.56, stdev 39.76\n",
      "2019(13): mean 26.13, stdev 32.24\n",
      "2020(10): mean 55.9, stdev 58.98\n",
      "2021(14): mean 69.53, stdev 80.09\n",
      "2022(11): mean 33.28, stdev 50.01\n",
      "\n",
      "For listing price >= RM1:\n",
      "2017(3): mean 6.17, stdev 5.58\n",
      "2018(1): mean -2.11, stdev 0\n",
      "2019(2): mean 0.14, stdev 2.37\n",
      "2020(1): mean 0.0, stdev 0\n",
      "2021(3): mean 14.96, stdev 18.54\n",
      "2022(2): mean 5.02, stdev 29.57\n"
     ]
    }
   ],
   "source": [
    "count, barheight, barerr = calculate_bardata(years, df, 'LISTVSOPENING_PCT')\n",
    "print(\"For listing price < RM1:\")\n",
    "for year in years:\n",
    "    print(str(year) + '(' + str(count['lt1'][year]) + '): mean ' + str(barheight['lt1'][year]) + \n",
    "         ', stdev ' + str(barerr['lt1'][year]))\n",
    "\n",
    "print()\n",
    "print(\"For listing price >= RM1:\")\n",
    "for year in years:\n",
    "    print(str(year) + '(' + str(count['mt1'][year]) + '): mean ' + str(barheight['mt1'][year]) + \n",
    "         ', stdev ' + str(barerr['mt1'][year]))"
   ]
  },
  {
   "cell_type": "code",
   "execution_count": 13,
   "id": "ab13b466-f7a1-4f8a-8d56-2aac57a8e642",
   "metadata": {},
   "outputs": [
    {
     "data": {
      "image/png": "[encoded data removed]",
      "text/plain": [
       "<Figure size 432x288 with 1 Axes>"
      ]
     },
     "metadata": {
      "needs_background": "light"
     },
     "output_type": "display_data"
    }
   ],
   "source": [
    "fig, ax = plt.subplots()\n",
    "xpos = np.arange(len(barerr['lt1']))\n",
    "width = 0.4\n",
    "plt.bar(xpos-0.2, list(barheight['lt1'].values()), width, yerr=list(barerr['lt1'].values()), ecolor='black', capsize=10)\n",
    "plt.bar(xpos+0.2, list(barheight['mt1'].values()), width, yerr=list(barerr['mt1'].values()), ecolor='black', capsize=10)\n",
    "\n",
    "ax.set_xticks(xpos)\n",
    "ax.set_xticklabels(years)\n",
    "ax.set_ylabel('% Difference, List vs Opening Price')\n",
    "plt.title('% Difference List vs Opening Price by Year')\n",
    "plt.legend([\"Listing Price <  RM1\", \"Listing Price  >= RM1\"])\n",
    "\n",
    "plt.tight_layout()\n",
    "plt.show()"
   ]
  },
  {
   "cell_type": "markdown",
   "id": "7960e887-d6f4-4dc5-a36a-99072d777628",
   "metadata": {},
   "source": [
    "We see that there is an increasing trend of higher opening price in 2020 and 2021, as opposed to previous years, and it's only for IPOs priced at less than RM1. Also note the really high standard deviation bars for each year, that suggests that while the average suggests an increasing trend, there is a huge variation within the same year itself.\n",
    "\n",
    "<b>Also, be aware that while many shares trade higher than their listing price on their IPO day, there are also instances where the shares open lower than their listing prices.</b>"
   ]
  },
  {
   "cell_type": "markdown",
   "id": "0eef127e-665d-426e-98b9-da4b2136413f",
   "metadata": {},
   "source": [
    "## Measuring Speculative Activity on IPO Day: % Difference between Listing vs Highest Price"
   ]
  },
  {
   "cell_type": "markdown",
   "id": "195bd473-032f-44a5-ac8e-8bb087dc843e",
   "metadata": {},
   "source": [
    "And now let's look at percentage difference between listing versus highest price on IPO day, per year"
   ]
  },
  {
   "cell_type": "code",
   "execution_count": 14,
   "id": "7be57df5-fe3d-4f2e-8d66-fe123966ad26",
   "metadata": {},
   "outputs": [
    {
     "name": "stdout",
     "output_type": "stream",
     "text": [
      "For listing price < RM1:\n",
      "2017(7): mean 29.21, stdev 5.87\n",
      "2018(10): mean 55.07, stdev 59.8\n",
      "2019(13): mean 34.83, stdev 37.87\n",
      "2020(10): mean 75.74, stdev 62.62\n",
      "2021(14): mean 84.84, stdev 86.37\n",
      "2022(11): mean 45.65, stdev 52.99\n",
      "\n",
      "For listing price >= RM1:\n",
      "2017(3): mean 8.06, stdev 5.39\n",
      "2018(1): mean 14.79, stdev 0\n",
      "2019(2): mean 15.24, stdev 9.99\n",
      "2020(1): mean 12.5, stdev 0\n",
      "2021(3): mean 35.25, stdev 25.15\n",
      "2022(2): mean 17.49, stdev 28.7\n"
     ]
    }
   ],
   "source": [
    "count, barheight, barerr = calculate_bardata(years, df, 'LISTVSHIGHEST_PCT')\n",
    "\n",
    "print(\"For listing price < RM1:\")\n",
    "for year in years:\n",
    "    print(str(year) + '(' + str(count['lt1'][year]) + '): mean ' + str(barheight['lt1'][year]) + \n",
    "         ', stdev ' + str(barerr['lt1'][year]))\n",
    "\n",
    "print()\n",
    "print(\"For listing price >= RM1:\")\n",
    "for year in years:\n",
    "    print(str(year) + '(' + str(count['mt1'][year]) + '): mean ' + str(barheight['mt1'][year]) + \n",
    "         ', stdev ' + str(barerr['mt1'][year]))"
   ]
  },
  {
   "cell_type": "code",
   "execution_count": 15,
   "id": "99b1ef2c-d788-4e2f-9509-f059bd156b91",
   "metadata": {},
   "outputs": [
    {
     "data": {
      "image/png": "[encoded data removed]",
      "text/plain": [
       "<Figure size 432x288 with 1 Axes>"
      ]
     },
     "metadata": {
      "needs_background": "light"
     },
     "output_type": "display_data"
    }
   ],
   "source": [
    "fig, ax = plt.subplots()\n",
    "xpos = np.arange(len(barerr['lt1']))\n",
    "width = 0.4\n",
    "plt.bar(xpos-0.2, list(barheight['lt1'].values()), width, yerr=list(barerr['lt1'].values()), ecolor='black', capsize=10)\n",
    "plt.bar(xpos+0.2, list(barheight['mt1'].values()), width, yerr=list(barerr['mt1'].values()), ecolor='black', capsize=10)\n",
    "\n",
    "ax.set_xticks(xpos)\n",
    "ax.set_xticklabels(years)\n",
    "ax.set_ylabel('% difference, Listing vs Highest Price')\n",
    "plt.title('% difference, Listing vs Highest Price, per Year')\n",
    "plt.legend([\"Listing Price <  RM1\", \"Listing Price  >= RM1\"])\n",
    "\n",
    "plt.tight_layout()\n",
    "plt.show()"
   ]
  },
  {
   "cell_type": "markdown",
   "id": "174a0541-edbf-4fe8-87e5-23ffe761a17d",
   "metadata": {},
   "source": [
    "Similar to the above (analysis of % difference of listing vs opening price), we also see that there is an increasing trend of higher highest price in 2020 and 2021, as opposed to previous years, and it is more pronounced for IPOs at less than RM1. Again note the big standard deviation: the average suggests an increasing trend, yet there is a huge variation within the same year itself."
   ]
  },
  {
   "cell_type": "markdown",
   "id": "c8d32b75-5ffa-413f-ae5e-9dbacc9da846",
   "metadata": {},
   "source": [
    "The similar trend for the two previous analysis is not surprising, since % difference of listing versus opening, and % difference of listing versus highest prices, actually correlate strongly (i.e, if the price at open is higher than listing price, it seems that the price will go at least as high/even higher than that, most of the time):"
   ]
  },
  {
   "cell_type": "code",
   "execution_count": 16,
   "id": "00d78b06-d8ca-4e62-be01-7a3e8b2f82ac",
   "metadata": {},
   "outputs": [
    {
     "data": {
      "image/png": "[encoded data removed]",
      "text/plain": [
       "<Figure size 432x288 with 1 Axes>"
      ]
     },
     "metadata": {
      "needs_background": "light"
     },
     "output_type": "display_data"
    }
   ],
   "source": [
    "x_label = 'LISTVSOPENING_PCT'\n",
    "y_label = 'LISTVSHIGHEST_PCT'\n",
    "x = df[x_label]\n",
    "y = df[y_label]\n",
    "fig, ax = plt.subplots()\n",
    "ax.scatter(x,y)\n",
    "\n",
    "ax.set_xlabel('% difference of listing vs opening prices')\n",
    "ax.set_ylabel('% difference of listing vs highest prices')\n",
    "    \n",
    "plt.title('(% difference of listing vs opening) vs (% difference of lisiting vs highest)')\n",
    "plt.tight_layout()\n",
    "plt.show()"
   ]
  },
  {
   "cell_type": "markdown",
   "id": "e58f465f-08bf-49df-b76d-5602848ace9f",
   "metadata": {},
   "source": [
    "## Does high public interest during subscription translate into higher activity on IPO day?"
   ]
  },
  {
   "cell_type": "markdown",
   "id": "de0b8701-d56c-4710-9404-b1a94f0f79da",
   "metadata": {},
   "source": [
    "Let's now remove analysis by year from the equation, and take the data as aggregate, and ask, if high oversubscription rate correlates into high volume on the counter on IPO day."
   ]
  },
  {
   "cell_type": "code",
   "execution_count": 17,
   "id": "59944f3b-3783-4854-9461-8f9f117bdee6",
   "metadata": {},
   "outputs": [
    {
     "data": {
      "image/png": "[encoded data removed]",
      "text/plain": [
       "<Figure size 432x288 with 1 Axes>"
      ]
     },
     "metadata": {
      "needs_background": "light"
     },
     "output_type": "display_data"
    }
   ],
   "source": [
    "x_label = 'TOTALBALLOTINGOSCBED'\n",
    "y_label = 'VOLUMEIPODAY'\n",
    "x = df[x_label]\n",
    "y = df[y_label]\n",
    "fig, ax = plt.subplots()\n",
    "ax.scatter(x,y)\n",
    "\n",
    "sns.regplot(x, y)\n",
    "\n",
    "ax.set_xlabel('Oversubscription, times')\n",
    "ax.set_ylabel('Volume on IPO day, millions')\n",
    "    \n",
    "plt.title('Oversubscription vs Volume on IPO day')\n",
    "plt.tight_layout()\n",
    "plt.show()"
   ]
  },
  {
   "cell_type": "code",
   "execution_count": 18,
   "id": "71ec51a1-6119-4bed-962e-585df90a6dfb",
   "metadata": {},
   "outputs": [
    {
     "name": "stdout",
     "output_type": "stream",
     "text": [
      "R2:  -0.0229\n",
      "P-value:  0.8436\n",
      "stderr:  3117.51\n"
     ]
    }
   ],
   "source": [
    "m, b, r_value, p_value, std_err = scipy.stats.linregress(x, y)\n",
    "print(\"R2: \", round(r_value,4))\n",
    "print(\"P-value: \", round(p_value,4))\n",
    "print(\"stderr: \", round(std_err,2))"
   ]
  },
  {
   "cell_type": "markdown",
   "id": "24f751d9-4546-4e56-8ad0-59b6acf04999",
   "metadata": {},
   "source": [
    "From the plot and R-square value we can see there is a poor correlation between oversubscription rate and volume on the counter on IPO day.\n",
    "\n",
    "<i>English speak:</i>\n",
    "    \n",
    "<i>R-square value ranges from -1 to 1, where -1 shows strong negative correlation, and 1 shows strong positive correlation. In this case the R-square is only around 0, suggesting there is no correlation.</i>\n",
    "    \n",
    "<i>For P-value, the range is from (close to) 0 to 1, where value close to 0 suggests that the value is strongly significant, while 1 suggests that it's probably not very good. What is a good P-value cutoff depends on the case, but for simple test typically statisticians set that P-values need to be maximum 0.05 (or 0.01 if they want to be more strict). Here we have ~0.7, which is rather large.</i>\n",
    "\n",
    "This suggests that even if a counter was highly oversubscribed, this does not mean that there will be more participants on the counter on IPO day."
   ]
  },
  {
   "cell_type": "markdown",
   "id": "2fc914b9-6cce-462a-be87-b4bde6c83db1",
   "metadata": {},
   "source": [
    "## Does high public interest during subscription translate into higher speculative activity on IPO day?\n",
    "Okay, so it seems that subscription rate doesn't correlate with volume on IPO day. But does subscription rate correlate with higher speculative activity (not volume because we just answered that) on IPO day? i.e, the % difference between listing vs opening, listing vs highest, and maybe also, listing vs closing prices."
   ]
  },
  {
   "cell_type": "markdown",
   "id": "a0fbec7f-8311-402b-bd6d-763ea8ae9ff6",
   "metadata": {},
   "source": [
    "Let's see % difference between listing vs opening prices first..."
   ]
  },
  {
   "cell_type": "code",
   "execution_count": 19,
   "id": "a94c243e-ac9a-4754-a6b1-1b6582c23e12",
   "metadata": {},
   "outputs": [
    {
     "data": {
      "image/png": "[encoded data removed]",
      "text/plain": [
       "<Figure size 432x288 with 1 Axes>"
      ]
     },
     "metadata": {
      "needs_background": "light"
     },
     "output_type": "display_data"
    }
   ],
   "source": [
    "x_label = 'TOTALBALLOTINGOSCBED'\n",
    "y_label = 'LISTVSOPENING_PCT'\n",
    "x = df[x_label]\n",
    "y = df[y_label]\n",
    "fig, ax = plt.subplots()\n",
    "ax.scatter(x,y)\n",
    "\n",
    "sns.regplot(x, y)\n",
    "\n",
    "ax.set_xlabel('Oversubscription, times')\n",
    "ax.set_ylabel('% difference, listing vs opening price')\n",
    "\n",
    "plt.title('Oversubscription vs %difference listing vs opening price')\n",
    "plt.tight_layout()\n",
    "plt.show()"
   ]
  },
  {
   "cell_type": "code",
   "execution_count": 20,
   "id": "fef2c755-306d-4eda-8463-0cfb224d65d0",
   "metadata": {},
   "outputs": [
    {
     "name": "stdout",
     "output_type": "stream",
     "text": [
      "R2:  0.6158\n",
      "P-value: 2.5165e-09\n",
      "stderr:  0.1255\n",
      "equation: y = 0.8494*X + 7.4909\n"
     ]
    }
   ],
   "source": [
    "m, b, r_value, p_value, std_err = scipy.stats.linregress(x, y)\n",
    "print(\"R2: \", round(r_value,4))\n",
    "print(f\"P-value: {p_value:.4e}\")\n",
    "print(\"stderr: \", round(std_err,4))\n",
    "print(\"equation: y = \" + str(round(m,4)) + \"*X + \" + str(round(b,4)))"
   ]
  },
  {
   "cell_type": "markdown",
   "id": "5b1ac83d-0729-4177-84dd-fcda648dbbac",
   "metadata": {},
   "source": [
    "Noice. Looks like there's rather good correlation: the higher public interest in subscribing to the IPO (as measured by the oversubscription rate), the higher likelihood that we'd see higher opening price on IPO day.\n",
    "\n",
    "<i>We have an R-square value at ~0.6, quite far from 0 for no correlation and halfway to the value 1 (for perfect correlation). Also the P-value is really really small, suggesting the correlation is highly significant.</i>\n",
    "\n",
    "This tells you that while there is no correlation between oversubscription with volume per se, the ones that participate during IPO day indeed push up the price at market open."
   ]
  },
  {
   "cell_type": "markdown",
   "id": "7230352a-64de-48f6-b64f-801a3d633fc2",
   "metadata": {},
   "source": [
    "Let's remove points over 40X oversubscription rate, since outliers like those can easily skew the result."
   ]
  },
  {
   "cell_type": "code",
   "execution_count": 21,
   "id": "00217168-ec82-4d6f-8cb5-364dd167a9f9",
   "metadata": {},
   "outputs": [
    {
     "data": {
      "image/png": "[encoded data removed]",
      "text/plain": [
       "<Figure size 432x288 with 1 Axes>"
      ]
     },
     "metadata": {
      "needs_background": "light"
     },
     "output_type": "display_data"
    }
   ],
   "source": [
    "df2 = df[df['TOTALBALLOTINGOSCBED']<40]\n",
    "\n",
    "x_label = 'TOTALBALLOTINGOSCBED'\n",
    "y_label = 'LISTVSOPENING_PCT'\n",
    "x = df2[x_label]\n",
    "y = df2[y_label]\n",
    "fig, ax = plt.subplots()\n",
    "ax.scatter(x,y)\n",
    "\n",
    "sns.regplot(x, y)\n",
    "\n",
    "ax.set_xlabel('Oversubscription, times')\n",
    "ax.set_ylabel('% difference, listing vs opening price')\n",
    "\n",
    "plt.title('Oversubscription vs %difference listing vs opening price (for oversubscription<=40X)')\n",
    "plt.tight_layout()\n",
    "plt.show()\n"
   ]
  },
  {
   "cell_type": "code",
   "execution_count": 22,
   "id": "66cc46e2-2eae-454f-b026-da0e0614dd48",
   "metadata": {},
   "outputs": [
    {
     "name": "stdout",
     "output_type": "stream",
     "text": [
      "R2:  0.4075\n",
      "P-value: 2.2227e-03\n",
      "stderr:  0.4416\n",
      "equation: y = 1.4212*X + 0.5152\n"
     ]
    }
   ],
   "source": [
    "m, b, r_value, p_value, std_err = scipy.stats.linregress(x, y)\n",
    "print(\"R2: \", round(r_value,4))\n",
    "print(f\"P-value: {p_value:.4e}\")\n",
    "print(\"stderr: \", round(std_err,4))\n",
    "print(\"equation: y = \" + str(round(m,4)) + \"*X + \" + str(round(b,4)))"
   ]
  },
  {
   "cell_type": "markdown",
   "id": "9e4e23a6-4674-43a7-bb26-e451f5f25c0f",
   "metadata": {},
   "source": [
    "Yes, the result still holds, albeit with slightly lower R2 value. Noice."
   ]
  },
  {
   "cell_type": "markdown",
   "id": "4fa57600-290c-41b9-9fcb-6ad247bcb22d",
   "metadata": {},
   "source": [
    "Let's look at oversubscription vs %difference listing-to-highest price. I suspect it will also correlate (since I've already showed that % difference listing-to-opening already correlates with % difference listing-to-highest prices)."
   ]
  },
  {
   "cell_type": "code",
   "execution_count": 23,
   "id": "6618d6ae-a638-483b-8ab5-c03f42c7c498",
   "metadata": {},
   "outputs": [
    {
     "data": {
      "image/png": "[encoded data removed]",
      "text/plain": [
       "<Figure size 432x288 with 1 Axes>"
      ]
     },
     "metadata": {
      "needs_background": "light"
     },
     "output_type": "display_data"
    }
   ],
   "source": [
    "x_label = 'TOTALBALLOTINGOSCBED'\n",
    "y_label = 'LISTVSHIGHEST_PCT'\n",
    "x = df[x_label]\n",
    "y = df[y_label]\n",
    "fig, ax = plt.subplots()\n",
    "ax.scatter(x,y)\n",
    "\n",
    "sns.regplot(x, y)\n",
    "\n",
    "ax.set_xlabel('Oversubscription')\n",
    "ax.set_ylabel('% difference, listing vs highest')\n",
    "\n",
    "plt.title('Oversubscription vs %difference listing vs highest price on IPO day')\n",
    "plt.tight_layout()\n",
    "plt.show()"
   ]
  },
  {
   "cell_type": "code",
   "execution_count": 24,
   "id": "668ce43d-5458-4d8c-9fab-ecbbb2f9532c",
   "metadata": {},
   "outputs": [
    {
     "name": "stdout",
     "output_type": "stream",
     "text": [
      "R2:  0.5266\n",
      "P-value: 8.6980e-07\n",
      "stderr:  0.1523\n",
      "equation: y = 0.8167*X + 22.5286\n"
     ]
    }
   ],
   "source": [
    "m, b, r_value, p_value, std_err = scipy.stats.linregress(x, y)\n",
    "print(\"R2: \", round(r_value,4))\n",
    "print(f\"P-value: {p_value:.4e}\")\n",
    "print(\"stderr: \", round(std_err,4))\n",
    "print(\"equation: y = \" + str(round(m,4)) + \"*X + \" + str(round(b,4)))"
   ]
  },
  {
   "cell_type": "markdown",
   "id": "b8e5e74e-9918-4d77-95ac-f470aaaad56b",
   "metadata": {},
   "source": [
    "Yup, same. \n",
    "\n",
    "The higher public interest in subscribing to the IPO, the higher likelihood that the price will be pushed to a really high level on IPO day.\n",
    "\n",
    "So, again, high public interest to the IPO does not translate into more volume, but those that participate during the IPO day push up the price at market open, and also push up the price to a high level during the day."
   ]
  },
  {
   "cell_type": "markdown",
   "id": "a57b1889-b96d-4cdd-a84e-59d491434175",
   "metadata": {},
   "source": [
    "Again, check for oversubscription less than 40X (it should still hold)."
   ]
  },
  {
   "cell_type": "code",
   "execution_count": 25,
   "id": "e2e38b68-ce3f-4e9d-94f9-178be56d4d19",
   "metadata": {},
   "outputs": [
    {
     "data": {
      "image/png": "[encoded data removed]",
      "text/plain": [
       "<Figure size 432x288 with 1 Axes>"
      ]
     },
     "metadata": {
      "needs_background": "light"
     },
     "output_type": "display_data"
    }
   ],
   "source": [
    "df2 = df[df['TOTALBALLOTINGOSCBED']<=40]\n",
    "x_label = 'TOTALBALLOTINGOSCBED'\n",
    "y_label = 'LISTVSHIGHEST_PCT'\n",
    "x = df2[x_label]\n",
    "y = df2[y_label]\n",
    "fig, ax = plt.subplots()\n",
    "ax.scatter(x,y)\n",
    "\n",
    "sns.regplot(x, y)\n",
    "\n",
    "ax.set_xlabel('Oversubscription')\n",
    "ax.set_ylabel('% difference, listing vs highest')\n",
    "\n",
    "plt.title('Oversubscription vs %difference listing vs highest price on IPO day, for oversubscription <=40X only')\n",
    "plt.tight_layout()\n",
    "plt.show()"
   ]
  },
  {
   "cell_type": "code",
   "execution_count": 26,
   "id": "c400870d-bc0c-456d-8553-9f81aba13aa4",
   "metadata": {},
   "outputs": [
    {
     "name": "stdout",
     "output_type": "stream",
     "text": [
      "R2:  0.3291\n",
      "P-value:  0.0151\n",
      "stderr:  0.5756\n",
      "equation: y = 1.4465*X + 14.5738\n"
     ]
    }
   ],
   "source": [
    "m, b, r_value, p_value, std_err = scipy.stats.linregress(x, y)\n",
    "print(\"R2: \", round(r_value,4))\n",
    "print(\"P-value: \", round(p_value,4))\n",
    "print(\"stderr: \", round(std_err,4))\n",
    "print(\"equation: y = \" + str(round(m,4)) + \"*X + \" + str(round(b,4)))"
   ]
  },
  {
   "cell_type": "markdown",
   "id": "7b2153e9-815f-4883-872c-6bc8d3350ff3",
   "metadata": {},
   "source": [
    "Result holds, again with lower R-square and P-values."
   ]
  },
  {
   "cell_type": "markdown",
   "id": "5684f4e9-1d54-451f-a474-d69c28917936",
   "metadata": {},
   "source": [
    "Finally let's look at oversubscription vs %difference listing-to-closing price. Does the stock price tend to settle higher, if it has high oversubscription rate?"
   ]
  },
  {
   "cell_type": "code",
   "execution_count": 27,
   "id": "325c621a-d6be-4d0a-a50b-37197a9a7faa",
   "metadata": {},
   "outputs": [
    {
     "data": {
      "image/png": "[encoded data removed]",
      "text/plain": [
       "<Figure size 432x288 with 1 Axes>"
      ]
     },
     "metadata": {
      "needs_background": "light"
     },
     "output_type": "display_data"
    }
   ],
   "source": [
    "x_label = 'TOTALBALLOTINGOSCBED'\n",
    "y_label = 'LISTVSCLOSING_PCT'\n",
    "x = df[x_label]\n",
    "y = df[y_label]\n",
    "fig, ax = plt.subplots()\n",
    "ax.scatter(x,y)\n",
    "\n",
    "sns.regplot(x, y)\n",
    "\n",
    "ax.set_xlabel('Oversubscription')\n",
    "ax.set_ylabel('% difference, listing vs closing price')\n",
    "\n",
    "plt.title('Oversubscription vs %difference listing vs closing price on IPO day')\n",
    "plt.tight_layout()\n",
    "plt.show()"
   ]
  },
  {
   "cell_type": "code",
   "execution_count": 28,
   "id": "95de6b10-d723-4ccb-b1fd-df60020b8b14",
   "metadata": {},
   "outputs": [
    {
     "name": "stdout",
     "output_type": "stream",
     "text": [
      "R2:  0.3837\n",
      "P-value: 5.7232e-04\n",
      "stderr:  0.1282\n",
      "equation: y = 0.4613*X + 15.0522\n"
     ]
    }
   ],
   "source": [
    "m, b, r_value, p_value, std_err = scipy.stats.linregress(x, y)\n",
    "print(\"R2: \", round(r_value,4))\n",
    "print(f\"P-value: {p_value:.4e}\")\n",
    "print(\"stderr: \", round(std_err,4))\n",
    "print(\"equation: y = \" + str(round(m,4)) + \"*X + \" + str(round(b,4)))"
   ]
  },
  {
   "cell_type": "markdown",
   "id": "c4fd7957-19ac-443d-a4f0-d36b070bc420",
   "metadata": {},
   "source": [
    "So, again, high public interest to the IPO does not translate into more volume, but those that participate during the IPO day push up the price at market open, and also push up the price to a high level during the day.\n",
    "\n",
    "But you can see that the correlation is weaker now (R2 at 0.3837) vs (R2 at 0.6158 for oversubscription vs % difference listing-vs-opening)."
   ]
  },
  {
   "cell_type": "markdown",
   "id": "477bb24e-5830-4c89-a670-3dc1acf9b9fb",
   "metadata": {},
   "source": [
    "Again, just for completeness, let's verify for oversubscription less than 40X..."
   ]
  },
  {
   "cell_type": "code",
   "execution_count": 29,
   "id": "74cd611e-9408-4dd5-b0b2-dc86755753be",
   "metadata": {},
   "outputs": [
    {
     "data": {
      "image/png": "[encoded data removed]",
      "text/plain": [
       "<Figure size 432x288 with 1 Axes>"
      ]
     },
     "metadata": {
      "needs_background": "light"
     },
     "output_type": "display_data"
    }
   ],
   "source": [
    "df = df[df['TOTALBALLOTINGOSCBED']<=40]\n",
    "x_label = 'TOTALBALLOTINGOSCBED'\n",
    "y_label = 'LISTVSCLOSING_PCT'\n",
    "x = df[x_label]\n",
    "y = df[y_label]\n",
    "fig, ax = plt.subplots()\n",
    "ax.scatter(x,y)\n",
    "\n",
    "sns.regplot(x, y)\n",
    "\n",
    "ax.set_xlabel('Oversubscription')\n",
    "ax.set_ylabel('% difference, listing vs closing price')\n",
    "\n",
    "plt.title('Oversubscription vs %difference listing vs closing price on IPO day, for oversubscription <=40X only')\n",
    "plt.tight_layout()\n",
    "plt.show()"
   ]
  },
  {
   "cell_type": "code",
   "execution_count": 30,
   "id": "d6dd893f-1469-477e-9298-c5f8b5793aa6",
   "metadata": {},
   "outputs": [
    {
     "name": "stdout",
     "output_type": "stream",
     "text": [
      "R2:  0.3432\n",
      "P-value:  0.0111\n",
      "stderr:  0.5147\n",
      "equation: y = 1.3562*X + 1.877\n"
     ]
    }
   ],
   "source": [
    "m, b, r_value, p_value, std_err = scipy.stats.linregress(x, y)\n",
    "print(\"R2: \", round(r_value,4))\n",
    "print(\"P-value: \", round(p_value,4))\n",
    "print(\"stderr: \", round(std_err,4))\n",
    "print(\"equation: y = \" + str(round(m,4)) + \"*X + \" + str(round(b,4)))"
   ]
  },
  {
   "cell_type": "markdown",
   "id": "eca5ccba-2f7a-4cd8-ab12-4f199e20a555",
   "metadata": {},
   "source": [
    "Result holds, albeit with bit worse P-value."
   ]
  },
  {
   "cell_type": "markdown",
   "id": "3f1b92be-3040-47f6-81ac-11f2d8f54293",
   "metadata": {},
   "source": [
    "## Summary\n",
    "Okay, to summarize:\n",
    "1. There's more interest from the public for IPO in recent years (i.e starting 2020)\n",
    "    - with a general trend of higher price at market open and during trading day vs previous years.\n",
    "2. Year 2020 we see the market is flush with liquidity, as there is high volume on an IPO counter.\n",
    "    - this is in line with higher trading volume in 2020 on the the market overall as already covered elsewhere.\n",
    "3. Higher oversubscription rate does not translate into higher volume on IPO day\n",
    "    - seems like, even over the years more and more people are subscribing to IPOs, once they didn't get it, seems like they don't speculate on the counter on the IPO day (?)\n",
    "4. Yet, higher oversubscription rate correlates with:\n",
    "    - higher price at market open\n",
    "    - higher price during trading day\n",
    "    - higher price at market close"
   ]
  },
  {
   "cell_type": "markdown",
   "id": "b6734ec6-9cbb-499a-ba2c-5042c401f70d",
   "metadata": {},
   "source": [
    "## More Questions\n",
    "1. As we can collect the data (it's in the Internet, someone just have to do it) on IPO oversubscription for Bumi vs non-Bumi, do these two population groups show different trends over the years?\n",
    "2. I did not collect data on the market cap or outstanding shares. Is it worth to see if there's any interesting patterns with regards to oversubscription rate, liquidity or % difference from listing price with market cap/#outstanding shares?\n",
    "3. Also would be interesting to see how fast does trading volume on a recently IPOed counter wanes, when compared to their oversubscription rate or speculative activity on IPO day.\n",
    "\n",
    "et cetera, et cetera.\n",
    "\n",
    "Thanks for reading. Hope this worth your time."
   ]
  },
  {
   "cell_type": "markdown",
   "id": "64165ce1-eed3-4ed3-a621-ccfd8eeb6ff0",
   "metadata": {},
   "source": [
    "<b>Before you go, I have to emphasize this again: This exercise is for entertainment purposes only. Do not trade shares based on this exercise. Trading shares involve capital loss and emotional pain. Please consult your investment advisor before embarking on any financial exercise.\n",
    "At any trading day there can be wild swings in the market, IPOed shares included.</b>\n",
    "    \n",
    "<b>You may be lucky 5 times, but it could take just 1 bad trade to wipe you out. </b>\n",
    "\n",
    "<b>Do not use the information from this exercise to guide your trading plan.\n",
    "</b>"
   ]
  }
 ],
 "metadata": {
  "kernelspec": {
   "display_name": "Python 3",
   "language": "python",
   "name": "python3"
  },
  "language_info": {
   "codemirror_mode": {
    "name": "ipython",
    "version": 3
   },
   "file_extension": ".py",
   "mimetype": "text/x-python",
   "name": "python",
   "nbconvert_exporter": "python",
   "pygments_lexer": "ipython3",
   "version": "3.8.8"
  }
 },
 "nbformat": 4,
 "nbformat_minor": 5
}
