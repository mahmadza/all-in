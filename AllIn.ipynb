{
 "cells": [
  {
   "cell_type": "markdown",
   "id": "6ee9b9da-ddb6-4804-98ae-541affc12459",
   "metadata": {},
   "source": [
    "# Analysis of Public Interest on Initial Public Offering (IPO) on Bursa Malaysia"
   ]
  },
  {
   "cell_type": "markdown",
   "id": "42106605-4b39-4359-bdc7-956853436eec",
   "metadata": {},
   "source": [
    "Data collected from 2018 till 2022"
   ]
  },
  {
   "cell_type": "code",
   "execution_count": 47,
   "id": "98031001-d64d-4e83-b266-d76bb6fcf3d5",
   "metadata": {},
   "outputs": [],
   "source": [
    "import pandas as pd\n",
    "from statistics import stdev\n",
    "import matplotlib.pyplot as plt\n",
    "import numpy as np\n",
    "import seaborn as sns\n",
    "import scipy\n",
    "from scipy import stats\n",
    "\n",
    "import warnings\n",
    "warnings.filterwarnings('ignore')"
   ]
  },
  {
   "cell_type": "code",
   "execution_count": 48,
   "id": "4d9d2cfa-aaa5-4ef5-81fa-8927f1d910e4",
   "metadata": {},
   "outputs": [
    {
     "data": {
      "text/html": [
       "<div>\n",
       "<style scoped>\n",
       "    .dataframe tbody tr th:only-of-type {\n",
       "        vertical-align: middle;\n",
       "    }\n",
       "\n",
       "    .dataframe tbody tr th {\n",
       "        vertical-align: top;\n",
       "    }\n",
       "\n",
       "    .dataframe thead th {\n",
       "        text-align: right;\n",
       "    }\n",
       "</style>\n",
       "<table border=\"1\" class=\"dataframe\">\n",
       "  <thead>\n",
       "    <tr style=\"text-align: right;\">\n",
       "      <th></th>\n",
       "      <th>TICKER</th>\n",
       "      <th>MARKET</th>\n",
       "      <th>YEAR</th>\n",
       "      <th>LISTPRICE</th>\n",
       "      <th>VOLUMEIPODAY</th>\n",
       "      <th>OPENPRICEIPODAY</th>\n",
       "      <th>HIGHESTPRICEIPODAY</th>\n",
       "      <th>CLOSINGPRICEIPODAY</th>\n",
       "      <th>NEWSHARES</th>\n",
       "      <th>TOTALAPPLICATIONS</th>\n",
       "      <th>...</th>\n",
       "      <th>XBUMIAPPLICATIONS</th>\n",
       "      <th>XBUMIAPPLICATIONSHARES</th>\n",
       "      <th>XBUMIBALLOTINGOSCBED</th>\n",
       "      <th>ELIGPERSONSSHARES</th>\n",
       "      <th>PVPLACEMENTSHARES</th>\n",
       "      <th>OFFERFORSALE</th>\n",
       "      <th>CAPITALRAISED</th>\n",
       "      <th>PUBLICISSUENEWSHARES</th>\n",
       "      <th>ENLARGEDSHARECAPITAL</th>\n",
       "      <th>MARKETCAPONLISTING</th>\n",
       "    </tr>\n",
       "  </thead>\n",
       "  <tbody>\n",
       "    <tr>\n",
       "      <th>0</th>\n",
       "      <td>CORAZA</td>\n",
       "      <td>ACE</td>\n",
       "      <td>2022</td>\n",
       "      <td>0.28</td>\n",
       "      <td>NaN</td>\n",
       "      <td>NaN</td>\n",
       "      <td>NaN</td>\n",
       "      <td>NaN</td>\n",
       "      <td>2140000.0</td>\n",
       "      <td>26781.0</td>\n",
       "      <td>...</td>\n",
       "      <td>14299.0</td>\n",
       "      <td>1.850000e+09</td>\n",
       "      <td>171.40</td>\n",
       "      <td>21400000.0</td>\n",
       "      <td>96400000.0</td>\n",
       "      <td>21400000.0</td>\n",
       "      <td>33000000.0</td>\n",
       "      <td>117800000.0</td>\n",
       "      <td>428300000.0</td>\n",
       "      <td>119900000.0</td>\n",
       "    </tr>\n",
       "    <tr>\n",
       "      <th>1</th>\n",
       "      <td>SENHENG</td>\n",
       "      <td>MAIN</td>\n",
       "      <td>2022</td>\n",
       "      <td>1.07</td>\n",
       "      <td>NaN</td>\n",
       "      <td>NaN</td>\n",
       "      <td>NaN</td>\n",
       "      <td>NaN</td>\n",
       "      <td>30000000.0</td>\n",
       "      <td>16548.0</td>\n",
       "      <td>...</td>\n",
       "      <td>9679.0</td>\n",
       "      <td>2.499200e+08</td>\n",
       "      <td>15.66</td>\n",
       "      <td>22500000.0</td>\n",
       "      <td>149500000.0</td>\n",
       "      <td>139500000.0</td>\n",
       "      <td>NaN</td>\n",
       "      <td>250000000.0</td>\n",
       "      <td>NaN</td>\n",
       "      <td>NaN</td>\n",
       "    </tr>\n",
       "    <tr>\n",
       "      <th>2</th>\n",
       "      <td>TUJUSETIA</td>\n",
       "      <td>MAIN</td>\n",
       "      <td>2021</td>\n",
       "      <td>0.70</td>\n",
       "      <td>1145707.0</td>\n",
       "      <td>0.775</td>\n",
       "      <td>0.875</td>\n",
       "      <td>0.74</td>\n",
       "      <td>NaN</td>\n",
       "      <td>NaN</td>\n",
       "      <td>...</td>\n",
       "      <td>NaN</td>\n",
       "      <td>NaN</td>\n",
       "      <td>NaN</td>\n",
       "      <td>NaN</td>\n",
       "      <td>NaN</td>\n",
       "      <td>NaN</td>\n",
       "      <td>NaN</td>\n",
       "      <td>NaN</td>\n",
       "      <td>NaN</td>\n",
       "      <td>NaN</td>\n",
       "    </tr>\n",
       "    <tr>\n",
       "      <th>3</th>\n",
       "      <td>YENHER</td>\n",
       "      <td>MAIN</td>\n",
       "      <td>2021</td>\n",
       "      <td>0.95</td>\n",
       "      <td>618271.0</td>\n",
       "      <td>0.995</td>\n",
       "      <td>1.000</td>\n",
       "      <td>0.90</td>\n",
       "      <td>NaN</td>\n",
       "      <td>NaN</td>\n",
       "      <td>...</td>\n",
       "      <td>NaN</td>\n",
       "      <td>NaN</td>\n",
       "      <td>NaN</td>\n",
       "      <td>NaN</td>\n",
       "      <td>NaN</td>\n",
       "      <td>NaN</td>\n",
       "      <td>NaN</td>\n",
       "      <td>NaN</td>\n",
       "      <td>NaN</td>\n",
       "      <td>NaN</td>\n",
       "    </tr>\n",
       "    <tr>\n",
       "      <th>4</th>\n",
       "      <td>CTOS</td>\n",
       "      <td>MAIN</td>\n",
       "      <td>2021</td>\n",
       "      <td>1.10</td>\n",
       "      <td>3663593.0</td>\n",
       "      <td>1.500</td>\n",
       "      <td>1.760</td>\n",
       "      <td>1.62</td>\n",
       "      <td>NaN</td>\n",
       "      <td>NaN</td>\n",
       "      <td>...</td>\n",
       "      <td>NaN</td>\n",
       "      <td>NaN</td>\n",
       "      <td>NaN</td>\n",
       "      <td>NaN</td>\n",
       "      <td>NaN</td>\n",
       "      <td>NaN</td>\n",
       "      <td>NaN</td>\n",
       "      <td>NaN</td>\n",
       "      <td>NaN</td>\n",
       "      <td>NaN</td>\n",
       "    </tr>\n",
       "  </tbody>\n",
       "</table>\n",
       "<p>5 rows × 25 columns</p>\n",
       "</div>"
      ],
      "text/plain": [
       "      TICKER MARKET  YEAR  LISTPRICE  VOLUMEIPODAY  OPENPRICEIPODAY  \\\n",
       "0     CORAZA    ACE  2022       0.28           NaN              NaN   \n",
       "1    SENHENG   MAIN  2022       1.07           NaN              NaN   \n",
       "2  TUJUSETIA   MAIN  2021       0.70     1145707.0            0.775   \n",
       "3     YENHER   MAIN  2021       0.95      618271.0            0.995   \n",
       "4       CTOS   MAIN  2021       1.10     3663593.0            1.500   \n",
       "\n",
       "   HIGHESTPRICEIPODAY  CLOSINGPRICEIPODAY   NEWSHARES  TOTALAPPLICATIONS  ...  \\\n",
       "0                 NaN                 NaN   2140000.0            26781.0  ...   \n",
       "1                 NaN                 NaN  30000000.0            16548.0  ...   \n",
       "2               0.875                0.74         NaN                NaN  ...   \n",
       "3               1.000                0.90         NaN                NaN  ...   \n",
       "4               1.760                1.62         NaN                NaN  ...   \n",
       "\n",
       "   XBUMIAPPLICATIONS  XBUMIAPPLICATIONSHARES  XBUMIBALLOTINGOSCBED  \\\n",
       "0            14299.0            1.850000e+09                171.40   \n",
       "1             9679.0            2.499200e+08                 15.66   \n",
       "2                NaN                     NaN                   NaN   \n",
       "3                NaN                     NaN                   NaN   \n",
       "4                NaN                     NaN                   NaN   \n",
       "\n",
       "   ELIGPERSONSSHARES  PVPLACEMENTSHARES  OFFERFORSALE  CAPITALRAISED  \\\n",
       "0         21400000.0         96400000.0    21400000.0     33000000.0   \n",
       "1         22500000.0        149500000.0   139500000.0            NaN   \n",
       "2                NaN                NaN           NaN            NaN   \n",
       "3                NaN                NaN           NaN            NaN   \n",
       "4                NaN                NaN           NaN            NaN   \n",
       "\n",
       "   PUBLICISSUENEWSHARES  ENLARGEDSHARECAPITAL  MARKETCAPONLISTING  \n",
       "0           117800000.0           428300000.0         119900000.0  \n",
       "1           250000000.0                   NaN                 NaN  \n",
       "2                   NaN                   NaN                 NaN  \n",
       "3                   NaN                   NaN                 NaN  \n",
       "4                   NaN                   NaN                 NaN  \n",
       "\n",
       "[5 rows x 25 columns]"
      ]
     },
     "execution_count": 48,
     "metadata": {},
     "output_type": "execute_result"
    }
   ],
   "source": [
    "df = pd.read_csv(\"IPO_2018to2022.csv\")\n",
    "df.head()"
   ]
  },
  {
   "cell_type": "code",
   "execution_count": 77,
   "id": "e8d6b734-2ec9-46e3-8254-1d0e411efc41",
   "metadata": {},
   "outputs": [],
   "source": [
    "# Create following columns:\n",
    "# % difference between list price vs opening price on IPO day\n",
    "# % difference between list price vs highest price on IPO day\n",
    "# % difference between opening price on IPO day vs closing price on IPO day\n",
    "# % difference between opening price on IPO day vs highest price on IPO day\n",
    "\n",
    "df['LISTVSOPENING_PCT'] = df['OPENPRICEIPODAY']/df['LISTPRICE']*100 - 100\n",
    "df['LISTVSHIGHEST_PCT'] = df['HIGHESTPRICEIPODAY']/df['LISTPRICE']*100 - 100\n",
    "df['LISTVSCLOSING_PCT'] = df['CLOSINGPRICEIPODAY']/df['LISTPRICE']*100 - 100"
   ]
  },
  {
   "cell_type": "code",
   "execution_count": 50,
   "id": "2536b955-0f17-4312-8508-16c08d306b55",
   "metadata": {},
   "outputs": [
    {
     "data": {
      "text/plain": [
       "(56, 30)"
      ]
     },
     "execution_count": 50,
     "metadata": {},
     "output_type": "execute_result"
    }
   ],
   "source": [
    "df.shape"
   ]
  },
  {
   "cell_type": "code",
   "execution_count": 51,
   "id": "a96b1bbb-37d6-417e-a8f3-b18be1663683",
   "metadata": {},
   "outputs": [
    {
     "data": {
      "text/plain": [
       "[2018, 2019, 2020, 2021, 2022]"
      ]
     },
     "execution_count": 51,
     "metadata": {},
     "output_type": "execute_result"
    }
   ],
   "source": [
    "# grab all available years\n",
    "years = df['YEAR'].unique().tolist()[::-1]\n",
    "years"
   ]
  },
  {
   "cell_type": "markdown",
   "id": "1039bc95-6eae-45e0-b44b-4accab0795cf",
   "metadata": {},
   "source": [
    "## Measuring Subscription Interest: Oversubscription Rate by Year"
   ]
  },
  {
   "cell_type": "markdown",
   "id": "ed35d7d4-119f-460f-9d8d-d22c99380105",
   "metadata": {},
   "source": [
    "### Aggregate, all combined (regardless listing price)"
   ]
  },
  {
   "cell_type": "code",
   "execution_count": 52,
   "id": "a3c759f9-9c3b-414d-8b2a-5eb44eaf4a7a",
   "metadata": {},
   "outputs": [
    {
     "name": "stdout",
     "output_type": "stream",
     "text": [
      "2018(11): median 16.35, mean 16.61, min 1.16, max 43.0\n",
      "2019(15): median 9.41, mean 12.06, min 3.64, max 35.0\n",
      "2020(11): median 15.9, mean 28.52, min 3.91, max 82.0\n",
      "2021(17): median 42.07, mean 65.81, min 13.8, max 176.6\n",
      "2022(2): median 71.47, mean 71.47, min 10.44, max 132.5\n"
     ]
    }
   ],
   "source": [
    "barheight = []\n",
    "barerr = []\n",
    "\n",
    "for year in years:\n",
    "    df_series = df[((df['YEAR']==year))]['TOTALBALLOTINGOSCBED']\n",
    "    count = df_series.count()\n",
    "\n",
    "    median_year = round(df_series.median(),2)\n",
    "    mean_year = round(df_series.mean(),2)\n",
    "    min_year = df_series.min()\n",
    "    max_year = df_series.max()\n",
    "    print(str(year) + '(' + str(count) + '): median ' + str(median_year) + ', mean ' + str(mean_year) + \n",
    "         ', min ' + str(min_year) + ', max ' + str(max_year))\n",
    "        \n",
    "    barheight.append(mean_year)\n",
    "    barerr.append(stdev(df_series))"
   ]
  },
  {
   "cell_type": "code",
   "execution_count": 53,
   "id": "9b0b6af6-49ac-459a-a61e-37496bc39d77",
   "metadata": {},
   "outputs": [
    {
     "data": {
      "image/png": "[encoded data removed]",
      "text/plain": [
       "<Figure size 432x288 with 1 Axes>"
      ]
     },
     "metadata": {
      "needs_background": "light"
     },
     "output_type": "display_data"
    }
   ],
   "source": [
    "fig, ax = plt.subplots()\n",
    "xpos = np.arange(len(barheight))\n",
    "ax.bar(xpos, barheight, yerr=barerr, align='center',\n",
    "       alpha=0.5, ecolor='black', capsize=10)\n",
    "ax.set_xticks(xpos)\n",
    "ax.set_xticklabels(years)\n",
    "ax.set_ylabel('Oversubscription, times')\n",
    "plt.title('Oversubscription Rate By Year')\n",
    "\n",
    "plt.tight_layout()\n",
    "plt.show()"
   ]
  },
  {
   "cell_type": "markdown",
   "id": "8a01ff34-ef11-400d-aaa7-926e8e0b5561",
   "metadata": {},
   "source": [
    "### For listing price at least RM1.00"
   ]
  },
  {
   "cell_type": "code",
   "execution_count": 54,
   "id": "4f8b9e00-9d8f-44f5-bcd4-57271063cc75",
   "metadata": {},
   "outputs": [
    {
     "name": "stdout",
     "output_type": "stream",
     "text": [
      "IPO Oversubscription by year, for listing price >= RM1.00 :\n",
      "2018(1): median 1.16, mean 1.16, min 1.16, max 1.16\n",
      "2019(2): median 4.01, mean 4.01, min 3.64, max 4.39\n",
      "2020(1): median 3.91, mean 3.91, min 3.91, max 3.91\n",
      "2021(3): median 20.27, mean 22.23, min 18.85, max 27.57\n",
      "2022(1): median 10.44, mean 10.44, min 10.44, max 10.44\n"
     ]
    }
   ],
   "source": [
    "print(\"IPO Oversubscription by year, for listing price >= RM1.00 :\")\n",
    "for year in years:\n",
    "    df_series = df[((df['YEAR']==year)  & (df['LISTPRICE']>=1))]['TOTALBALLOTINGOSCBED']\n",
    "    count = df_series.count()\n",
    "\n",
    "    median_year = round(df_series.median(),2)\n",
    "    mean_year = round(df_series.mean(),2)\n",
    "    min_year = df_series.min()\n",
    "    max_year = df_series.max()\n",
    "    print(str(year) + '(' + str(count) + '): median ' + str(median_year) + ', mean ' + str(mean_year) + \n",
    "         ', min ' + str(min_year) + ', max ' + str(max_year))"
   ]
  },
  {
   "cell_type": "markdown",
   "id": "2e38bb6c-39b2-473a-9380-d75c9edc73c9",
   "metadata": {},
   "source": [
    "### For listing price below RM1.00"
   ]
  },
  {
   "cell_type": "code",
   "execution_count": 55,
   "id": "05391e05-4c16-463d-bbb6-dca7ce387961",
   "metadata": {},
   "outputs": [
    {
     "name": "stdout",
     "output_type": "stream",
     "text": [
      "2018(10): median 17.68, mean 18.15, min 2.84, max 43.0\n",
      "2019(13): median 11.34, mean 13.3, min 3.84, max 35.0\n",
      "2020(10): median 20.09, mean 30.98, min 10.5, max 82.0\n",
      "2021(14): median 66.56, mean 75.15, min 13.8, max 176.6\n",
      "2022(1): median 132.5, mean 132.5, min 132.5, max 132.5\n"
     ]
    }
   ],
   "source": [
    "barheight = []\n",
    "barerr = []\n",
    "for year in years:\n",
    "    df_series = df[((df['YEAR']==year)  & (df['LISTPRICE']<1))]['TOTALBALLOTINGOSCBED']\n",
    "    count = df_series.count()\n",
    "\n",
    "    median_year = round(df_series.median(),2)\n",
    "    mean_year = round(df_series.mean(),2)\n",
    "    min_year = df_series.min()\n",
    "    max_year = df_series.max()\n",
    "    print(str(year) + '(' + str(count) + '): median ' + str(median_year) + ', mean ' + str(mean_year) + \n",
    "         ', min ' + str(min_year) + ', max ' + str(max_year))\n",
    "    \n",
    "    barheight.append(mean_year)\n",
    "    if count >1:\n",
    "        barerr.append(stdev(df_series))\n",
    "    else:\n",
    "        barerr.append(0)"
   ]
  },
  {
   "cell_type": "code",
   "execution_count": 56,
   "id": "b6d79a01-3a15-4e50-ba9b-942140e44df6",
   "metadata": {},
   "outputs": [
    {
     "data": {
      "image/png": "[encoded data removed]",
      "text/plain": [
       "<Figure size 432x288 with 1 Axes>"
      ]
     },
     "metadata": {
      "needs_background": "light"
     },
     "output_type": "display_data"
    }
   ],
   "source": [
    "fig, ax = plt.subplots()\n",
    "xpos = np.arange(len(barheight))\n",
    "ax.bar(xpos, barheight, yerr=barerr, align='center',\n",
    "       alpha=0.5, ecolor='black', capsize=10)\n",
    "ax.set_xticks(xpos)\n",
    "ax.set_xticklabels(years)\n",
    "ax.set_ylabel('Oversubscription, times')\n",
    "plt.title('Oversubscription Rate By Year (for listing price less than RM1.00)')\n",
    "\n",
    "plt.tight_layout()\n",
    "plt.show()"
   ]
  },
  {
   "cell_type": "markdown",
   "id": "0c26e400-7525-4f0d-ad78-3cc31e9e0ebb",
   "metadata": {},
   "source": [
    "## Measuring Speculative Activity on IPO Day: Volume on IPO day by Year"
   ]
  },
  {
   "cell_type": "markdown",
   "id": "1ac59fb1-6f81-4cc4-8c76-6e12392bc2af",
   "metadata": {},
   "source": [
    "### Aggregate, all combined (regardless listing price)"
   ]
  },
  {
   "cell_type": "code",
   "execution_count": 57,
   "id": "281fe508-42b1-4e14-bc9f-bd8d28b5f91e",
   "metadata": {},
   "outputs": [],
   "source": [
    "# remove 2022 for now\n",
    "del years[-1]"
   ]
  },
  {
   "cell_type": "code",
   "execution_count": 58,
   "id": "c129d9e1-549f-4cc4-bcc3-39cacf756626",
   "metadata": {},
   "outputs": [
    {
     "name": "stdout",
     "output_type": "stream",
     "text": [
      "Volume on IPO day by year:\n",
      "2018(11): median 828043, mean 985777, min 38240, max 1882969\n",
      "2019(15): median 1185984, mean 1602266, min 298350, max 4479182\n",
      "2020(11): median 2070206, mean 2233225, min 1068858, max 4101546\n",
      "2021(17): median 1501863, mean 1722855, min 472273, max 3663593\n"
     ]
    }
   ],
   "source": [
    "print(\"Volume on IPO day by year:\")\n",
    "\n",
    "barheight = []\n",
    "barerr = []\n",
    "\n",
    "for year in years:\n",
    "    df_series = df[((df['YEAR']==year))]['VOLUMEIPODAY']\n",
    "    count = df_series.count()\n",
    "\n",
    "    median_year = round(df_series.median())\n",
    "    mean_year = round(df_series.mean())\n",
    "    min_year = round(df_series.min())\n",
    "    max_year = round(df_series.max())\n",
    "    print(str(year) + '(' + str(count) + '): median ' + str(median_year) + ', mean ' + str(mean_year) + \n",
    "         ', min ' + str(min_year) + ', max ' + str(max_year))\n",
    "    \n",
    "    barheight.append(mean_year)\n",
    "    if count >1:\n",
    "        barerr.append(stdev(df_series))\n",
    "    else:\n",
    "        barerr.append(0)"
   ]
  },
  {
   "cell_type": "code",
   "execution_count": 59,
   "id": "5c309852-63b8-466d-8927-240c39ee9fb7",
   "metadata": {},
   "outputs": [
    {
     "data": {
      "image/png": "[encoded data removed]",
      "text/plain": [
       "<Figure size 432x288 with 1 Axes>"
      ]
     },
     "metadata": {
      "needs_background": "light"
     },
     "output_type": "display_data"
    }
   ],
   "source": [
    "fig, ax = plt.subplots()\n",
    "xpos = np.arange(len(barheight))\n",
    "ax.bar(xpos, barheight, yerr=barerr, align='center',\n",
    "       alpha=0.5, ecolor='black', capsize=10)\n",
    "ax.set_xticks(xpos)\n",
    "ax.set_xticklabels(years)\n",
    "ax.set_ylabel('Volume on IPO day')\n",
    "plt.title('Volume on IPO day By Year')\n",
    "\n",
    "plt.tight_layout()\n",
    "plt.show()"
   ]
  },
  {
   "cell_type": "markdown",
   "id": "eab2c7c3-0dcf-466c-945d-ed8da91f9436",
   "metadata": {},
   "source": [
    "2020 seems to be the year with the most liquidity, despite being not the year with the highest oversubscription rate"
   ]
  },
  {
   "cell_type": "markdown",
   "id": "8ab3e093-25ea-42b7-8d84-29417b6eb91c",
   "metadata": {},
   "source": [
    "### For listing price at least RM1.00:"
   ]
  },
  {
   "cell_type": "code",
   "execution_count": 60,
   "id": "7544f4c9-2f9e-4612-8e48-9af2ae1b72d7",
   "metadata": {},
   "outputs": [
    {
     "name": "stdout",
     "output_type": "stream",
     "text": [
      "Volume on IPO day by year, for listing price >=RM1.00:\n",
      "2018(1): median 736832, mean 736832, min 736832, max 736832\n",
      "2019(2): median 1325753, mean 1325753, min 497515, max 2153991\n",
      "2020(1): median 4101546, mean 4101546, min 4101546, max 4101546\n",
      "2021(3): median 1870413, mean 2373199, min 1585591, max 3663593\n"
     ]
    }
   ],
   "source": [
    "print(\"Volume on IPO day by year, for listing price >=RM1.00:\")\n",
    "for year in years:\n",
    "    df_series = df[((df['YEAR']==year) & (df['LISTPRICE']>=1))]['VOLUMEIPODAY']\n",
    "    count = df_series.count()\n",
    "\n",
    "    median_year = round(df_series.median())\n",
    "    mean_year = round(df_series.mean())\n",
    "    min_year = round(df_series.min())\n",
    "    max_year = round(df_series.max())\n",
    "    print(str(year) + '(' + str(count) + '): median ' + str(median_year) + ', mean ' + str(mean_year) + \n",
    "         ', min ' + str(min_year) + ', max ' + str(max_year))\n"
   ]
  },
  {
   "cell_type": "markdown",
   "id": "9f7f217c-ec75-44c5-a34a-c87fe56ad11a",
   "metadata": {},
   "source": [
    "### For listing price less than RM1.00:"
   ]
  },
  {
   "cell_type": "code",
   "execution_count": 61,
   "id": "e22bf4a2-fb28-4e14-9ada-98cd162d9bf3",
   "metadata": {},
   "outputs": [
    {
     "name": "stdout",
     "output_type": "stream",
     "text": [
      "Volume on IPO day by year, for listing price <RM1.00:\n",
      "2018(10): median 853624, mean 1010671\n",
      "2019(13): median 1185984, mean 1644806\n",
      "2020(10): median 1981470, mean 2046393\n",
      "2021(14): median 1300062, mean 1583495\n"
     ]
    }
   ],
   "source": [
    "print(\"Volume on IPO day by year, for listing price <RM1.00:\")\n",
    "\n",
    "barheight = []\n",
    "barerr = []\n",
    "\n",
    "for year in years:\n",
    "    df_series = df[((df['YEAR']==year) & (df['LISTPRICE']<1))]['VOLUMEIPODAY']\n",
    "    count = df_series.count()\n",
    "\n",
    "    median_year = round(df_series.median())\n",
    "    mean_year = round(df_series.mean())\n",
    "    print(str(year) + '(' + str(count) + '): median ' + str(median_year) + ', mean ' + str(mean_year))\n",
    "    \n",
    "    barheight.append(mean_year)\n",
    "    if count >1:\n",
    "        barerr.append(stdev(df_series))\n",
    "    else:\n",
    "        barerr.append(0)"
   ]
  },
  {
   "cell_type": "code",
   "execution_count": 62,
   "id": "e73fb9b3-e1ec-4d55-a23f-4b11b224cf29",
   "metadata": {},
   "outputs": [
    {
     "data": {
      "image/png": "[encoded data removed]",
      "text/plain": [
       "<Figure size 432x288 with 1 Axes>"
      ]
     },
     "metadata": {
      "needs_background": "light"
     },
     "output_type": "display_data"
    }
   ],
   "source": [
    "fig, ax = plt.subplots()\n",
    "xpos = np.arange(len(barheight))\n",
    "ax.bar(xpos, barheight, yerr=barerr, align='center',\n",
    "       alpha=0.5, ecolor='black', capsize=10)\n",
    "ax.set_xticks(xpos)\n",
    "ax.set_xticklabels(years)\n",
    "ax.set_ylabel('Volume on IPO day')\n",
    "plt.title('Volume on IPO day By Year (for listing price less than RM1.00)')\n",
    "\n",
    "plt.tight_layout()\n",
    "plt.show()"
   ]
  },
  {
   "cell_type": "markdown",
   "id": "7d8d58e2-7310-4331-9134-b0b538d46726",
   "metadata": {},
   "source": [
    "## Measuring Speculative Activity on IPO Day: % Difference between Listing vs Opening Price"
   ]
  },
  {
   "cell_type": "code",
   "execution_count": 63,
   "id": "8407228e-d869-4bb3-bc13-68284a0b1673",
   "metadata": {},
   "outputs": [
    {
     "name": "stdout",
     "output_type": "stream",
     "text": [
      "2018(11): median 21.97, mean 30.31, min -18, max 117\n",
      "2019(15): median 13.04, mean 22.67, min -9, max 113\n",
      "2020(11): median 23.21, mean 50.81, min -1, max 154\n",
      "2021(17): median 25.0, mean 59.9, min -29, max 245\n"
     ]
    }
   ],
   "source": [
    "barheight = []\n",
    "barerr = []\n",
    "\n",
    "for year in years:\n",
    "    df_series = df[((df['YEAR']==year))]['LISTVSOPENING_PCT']\n",
    "    count = df_series.count()\n",
    "\n",
    "    median_year = round(df_series.median(),2)\n",
    "    mean_year = round(df_series.mean(),2)\n",
    "    min_year = round(df_series.min())\n",
    "    max_year = round(df_series.max())\n",
    "    print(str(year) + '(' + str(count) + '): median ' + str(median_year) + ', mean ' + str(mean_year) + \n",
    "         ', min ' + str(min_year) + ', max ' + str(max_year))\n",
    "    \n",
    "    barheight.append(mean_year)\n",
    "    if count >1:\n",
    "        barerr.append(stdev(df_series))\n",
    "    else:\n",
    "        barerr.append(0)"
   ]
  },
  {
   "cell_type": "code",
   "execution_count": 64,
   "id": "9c518635-dbe9-4824-8349-0963904e63e1",
   "metadata": {},
   "outputs": [
    {
     "data": {
      "image/png": "[encoded data removed]",
      "text/plain": [
       "<Figure size 432x288 with 1 Axes>"
      ]
     },
     "metadata": {
      "needs_background": "light"
     },
     "output_type": "display_data"
    }
   ],
   "source": [
    "fig, ax = plt.subplots()\n",
    "xpos = np.arange(len(barheight))\n",
    "ax.bar(xpos, barheight, yerr=barerr, align='center',\n",
    "       alpha=0.5, ecolor='black', capsize=10)\n",
    "ax.set_xticks(xpos)\n",
    "ax.set_xticklabels(years)\n",
    "ax.set_ylabel('% difference, Listing vs Opening Price on IPO day')\n",
    "plt.title('% difference, Listing vs Opening Price on IPO day By Year')\n",
    "\n",
    "plt.tight_layout()\n",
    "plt.show()"
   ]
  },
  {
   "cell_type": "markdown",
   "id": "7960e887-d6f4-4dc5-a36a-99072d777628",
   "metadata": {},
   "source": [
    "There is a general trend that over the years, we can see higher price at market open compared to previous years"
   ]
  },
  {
   "cell_type": "markdown",
   "id": "0eef127e-665d-426e-98b9-da4b2136413f",
   "metadata": {},
   "source": [
    "## Measuring Speculative Activity on IPO Day: % Difference between Listing vs Highest Price"
   ]
  },
  {
   "cell_type": "code",
   "execution_count": 65,
   "id": "7be57df5-fe3d-4f2e-8d66-fe123966ad26",
   "metadata": {},
   "outputs": [
    {
     "name": "stdout",
     "output_type": "stream",
     "text": [
      "2018(11): median 34.09, mean 51.41, min -9, max 183\n",
      "2019(15): median 27.87, mean 32.22, min -9, max 130\n",
      "2020(11): median 55.36, mean 69.99, min 6, max 163\n",
      "2021(17): median 36.03, mean 76.09, min -13, max 260\n"
     ]
    }
   ],
   "source": [
    "barheight = []\n",
    "barerr = []\n",
    "\n",
    "for year in years:\n",
    "    df_series = df[((df['YEAR']==year))]['LISTVSHIGHEST_PCT']\n",
    "    count = df_series.count()\n",
    "\n",
    "    median_year = round(df_series.median(),2)\n",
    "    mean_year = round(df_series.mean(),2)\n",
    "    min_year = round(df_series.min())\n",
    "    max_year = round(df_series.max())\n",
    "    print(str(year) + '(' + str(count) + '): median ' + str(median_year) + ', mean ' + str(mean_year) + \n",
    "         ', min ' + str(min_year) + ', max ' + str(max_year))\n",
    "\n",
    "    barheight.append(mean_year)\n",
    "    if count >1:\n",
    "        barerr.append(stdev(df_series))\n",
    "    else:\n",
    "        barerr.append(0)"
   ]
  },
  {
   "cell_type": "code",
   "execution_count": 66,
   "id": "cc44fe87-8cae-4deb-867f-dd2b7c2ff6c1",
   "metadata": {},
   "outputs": [
    {
     "data": {
      "image/png": "[encoded data removed]",
      "text/plain": [
       "<Figure size 432x288 with 1 Axes>"
      ]
     },
     "metadata": {
      "needs_background": "light"
     },
     "output_type": "display_data"
    }
   ],
   "source": [
    "fig, ax = plt.subplots()\n",
    "xpos = np.arange(len(barheight))\n",
    "ax.bar(xpos, barheight, yerr=barerr, align='center',\n",
    "       alpha=0.5, ecolor='black', capsize=10)\n",
    "ax.set_xticks(xpos)\n",
    "ax.set_xticklabels(years)\n",
    "ax.set_ylabel('% difference, Listing vs Highest Price on IPO day')\n",
    "plt.title('% difference, Listing vs Highest Price on IPO day By Year')\n",
    "\n",
    "plt.tight_layout()\n",
    "plt.show()"
   ]
  },
  {
   "cell_type": "markdown",
   "id": "174a0541-edbf-4fe8-87e5-23ffe761a17d",
   "metadata": {},
   "source": [
    "Also, there is a general trend we can see higher price at during trading day compared to previous years."
   ]
  },
  {
   "cell_type": "markdown",
   "id": "e58f465f-08bf-49df-b76d-5602848ace9f",
   "metadata": {},
   "source": [
    "## Does high public interest during subscription translate into higher activity on IPO day?"
   ]
  },
  {
   "cell_type": "code",
   "execution_count": 79,
   "id": "ee9fec2d-e518-43c4-ab5d-d835daa2e0df",
   "metadata": {},
   "outputs": [],
   "source": [
    "df = df[df['YEAR']!=2022]"
   ]
  },
  {
   "cell_type": "markdown",
   "id": "a6e6a758-96ad-4dea-8557-cb0ebe96d040",
   "metadata": {},
   "source": [
    "### Plot oversubscription vs volume"
   ]
  },
  {
   "cell_type": "code",
   "execution_count": 68,
   "id": "59944f3b-3783-4854-9461-8f9f117bdee6",
   "metadata": {},
   "outputs": [
    {
     "data": {
      "image/png": "[encoded data removed]",
      "text/plain": [
       "<Figure size 432x288 with 1 Axes>"
      ]
     },
     "metadata": {
      "needs_background": "light"
     },
     "output_type": "display_data"
    }
   ],
   "source": [
    "x_label = 'TOTALBALLOTINGOSCBED'\n",
    "y_label = 'VOLUMEIPODAY'\n",
    "x = df[x_label]\n",
    "y = df[y_label]\n",
    "fig, ax = plt.subplots()\n",
    "ax.scatter(x,y)\n",
    "\n",
    "sns.regplot(x, y)\n",
    "\n",
    "ax.set_xlabel(x_label)\n",
    "ax.set_ylabel(y_label)\n",
    "\n",
    "plt.title('Oversubscription vs Volume on IPO day')\n",
    "plt.tight_layout()\n",
    "plt.show()"
   ]
  },
  {
   "cell_type": "code",
   "execution_count": 69,
   "id": "71ec51a1-6119-4bed-962e-585df90a6dfb",
   "metadata": {},
   "outputs": [
    {
     "name": "stdout",
     "output_type": "stream",
     "text": [
      "R2:  -0.0606\n",
      "P-value:  0.6633\n",
      "stderr:  3656.5011\n"
     ]
    }
   ],
   "source": [
    "m, b, r_value, p_value, std_err = scipy.stats.linregress(x, y)\n",
    "print(\"R2: \", round(r_value,4))\n",
    "print(\"P-value: \", round(p_value,4))\n",
    "print(\"stderr: \", round(std_err,4))"
   ]
  },
  {
   "cell_type": "markdown",
   "id": "24f751d9-4546-4e56-8ad0-59b6acf04999",
   "metadata": {},
   "source": [
    "Doesn't look like there's any correlation: high interest in subscription activity does not translate into high volume on IPO day per se."
   ]
  },
  {
   "cell_type": "markdown",
   "id": "2fc914b9-6cce-462a-be87-b4bde6c83db1",
   "metadata": {},
   "source": [
    "## Does high public interest during subscription translate into higher speculative activity on IPO day?\n",
    "i.e, does high public interest push up the price (despite having no increase in volume)?"
   ]
  },
  {
   "cell_type": "markdown",
   "id": "a0fbec7f-8311-402b-bd6d-763ea8ae9ff6",
   "metadata": {},
   "source": [
    "### Plot oversubscription vs %difference listing-to-opening price"
   ]
  },
  {
   "cell_type": "code",
   "execution_count": 70,
   "id": "a94c243e-ac9a-4754-a6b1-1b6582c23e12",
   "metadata": {},
   "outputs": [
    {
     "data": {
      "image/png": "[encoded data removed]",
      "text/plain": [
       "<Figure size 432x288 with 1 Axes>"
      ]
     },
     "metadata": {
      "needs_background": "light"
     },
     "output_type": "display_data"
    }
   ],
   "source": [
    "x_label = 'TOTALBALLOTINGOSCBED'\n",
    "y_label = 'LISTVSOPENING_PCT'\n",
    "x = df[x_label]\n",
    "y = df[y_label]\n",
    "fig, ax = plt.subplots()\n",
    "ax.scatter(x,y)\n",
    "\n",
    "sns.regplot(x, y)\n",
    "\n",
    "ax.set_xlabel(x_label)\n",
    "ax.set_ylabel(y_label)\n",
    "\n",
    "plt.title('Oversubscription vs %difference listing vs opening price')\n",
    "plt.tight_layout()\n",
    "plt.show()"
   ]
  },
  {
   "cell_type": "code",
   "execution_count": 71,
   "id": "fef2c755-306d-4eda-8463-0cfb224d65d0",
   "metadata": {},
   "outputs": [
    {
     "name": "stdout",
     "output_type": "stream",
     "text": [
      "R2:  0.6268\n",
      "P-value:  0.0\n",
      "stderr:  0.1557\n",
      "equation: y = 0.9031*X + 11.6387\n"
     ]
    }
   ],
   "source": [
    "m, b, r_value, p_value, std_err = scipy.stats.linregress(x, y)\n",
    "print(\"R2: \", round(r_value,4))\n",
    "print(\"P-value: \", round(p_value,4))\n",
    "print(\"stderr: \", round(std_err,4))\n",
    "print(\"equation: y = \" + str(round(m,4)) + \"*X + \" + str(round(b,4)))"
   ]
  },
  {
   "cell_type": "markdown",
   "id": "5b1ac83d-0729-4177-84dd-fcda648dbbac",
   "metadata": {},
   "source": [
    "Looks like there's a correlation: the higher public interest in subscribing to the IPO (as measured by the oversubscription rate), the higher likelihood that we'd see higher opening price on IPO day.\n",
    "\n",
    "This tells you that while there is no correlation between oversubscription with volume per se, the ones that participate during IPO day indeed push up the price at market open."
   ]
  },
  {
   "cell_type": "markdown",
   "id": "4fa57600-290c-41b9-9fcb-6ad247bcb22d",
   "metadata": {},
   "source": [
    "### Plot oversubscription vs %difference listing-to-highest price"
   ]
  },
  {
   "cell_type": "code",
   "execution_count": 72,
   "id": "6618d6ae-a638-483b-8ab5-c03f42c7c498",
   "metadata": {},
   "outputs": [
    {
     "data": {
      "image/png": "[encoded data removed]",
      "text/plain": [
       "<Figure size 432x288 with 1 Axes>"
      ]
     },
     "metadata": {
      "needs_background": "light"
     },
     "output_type": "display_data"
    }
   ],
   "source": [
    "x_label = 'TOTALBALLOTINGOSCBED'\n",
    "y_label = 'LISTVSHIGHEST_PCT'\n",
    "x = df[x_label]\n",
    "y = df[y_label]\n",
    "fig, ax = plt.subplots()\n",
    "ax.scatter(x,y)\n",
    "\n",
    "sns.regplot(x, y)\n",
    "\n",
    "ax.set_xlabel(x_label)\n",
    "ax.set_ylabel(y_label)\n",
    "\n",
    "plt.title('Oversubscription vs %difference listing vs highest price on IPO day')\n",
    "plt.tight_layout()\n",
    "plt.show()"
   ]
  },
  {
   "cell_type": "code",
   "execution_count": 73,
   "id": "668ce43d-5458-4d8c-9fab-ecbbb2f9532c",
   "metadata": {},
   "outputs": [
    {
     "name": "stdout",
     "output_type": "stream",
     "text": [
      "R2:  0.5435\n",
      "P-value:  0.0\n",
      "stderr:  0.1886\n",
      "equation: y = 0.8808*X + 28.3381\n"
     ]
    }
   ],
   "source": [
    "m, b, r_value, p_value, std_err = scipy.stats.linregress(x, y)\n",
    "print(\"R2: \", round(r_value,4))\n",
    "print(\"P-value: \", round(p_value,4))\n",
    "print(\"stderr: \", round(std_err,4))\n",
    "print(\"equation: y = \" + str(round(m,4)) + \"*X + \" + str(round(b,4)))"
   ]
  },
  {
   "cell_type": "markdown",
   "id": "b8e5e74e-9918-4d77-95ac-f470aaaad56b",
   "metadata": {},
   "source": [
    "Also, the higher public interest in subscribing to the IPO (as measured by the oversubscription rate), the higher likelihood that the price will be pushed to a really high level on IPO day.\n",
    "\n",
    "So, again, high public interest to the IPO does not translate into more volume, but those that participate during the IPO day push up the price at market open, and also push up the price to a high level during the day."
   ]
  },
  {
   "cell_type": "markdown",
   "id": "5684f4e9-1d54-451f-a474-d69c28917936",
   "metadata": {},
   "source": [
    "### plot oversubscription vs %difference listing-to-closing price"
   ]
  },
  {
   "cell_type": "code",
   "execution_count": 74,
   "id": "325c621a-d6be-4d0a-a50b-37197a9a7faa",
   "metadata": {},
   "outputs": [
    {
     "data": {
      "image/png": "[encoded data removed]",
      "text/plain": [
       "<Figure size 432x288 with 1 Axes>"
      ]
     },
     "metadata": {
      "needs_background": "light"
     },
     "output_type": "display_data"
    }
   ],
   "source": [
    "x_label = 'TOTALBALLOTINGOSCBED'\n",
    "y_label = 'LISTVSCLOSING_PCT'\n",
    "x = df[x_label]\n",
    "y = df[y_label]\n",
    "fig, ax = plt.subplots()\n",
    "ax.scatter(x,y)\n",
    "\n",
    "sns.regplot(x, y)\n",
    "\n",
    "ax.set_xlabel(x_label)\n",
    "ax.set_ylabel(y_label)\n",
    "\n",
    "plt.title('Oversubscription vs %difference listing vs closing price on IPO day')\n",
    "plt.tight_layout()\n",
    "plt.show()"
   ]
  },
  {
   "cell_type": "code",
   "execution_count": 75,
   "id": "95de6b10-d723-4ccb-b1fd-df60020b8b14",
   "metadata": {},
   "outputs": [
    {
     "name": "stdout",
     "output_type": "stream",
     "text": [
      "R2:  0.3626\n",
      "P-value:  0.007\n",
      "stderr:  0.1585\n",
      "equation: y = 0.4447*X + 18.6129\n"
     ]
    }
   ],
   "source": [
    "m, b, r_value, p_value, std_err = scipy.stats.linregress(x, y)\n",
    "print(\"R2: \", round(r_value,4))\n",
    "print(\"P-value: \", round(p_value,4))\n",
    "print(\"stderr: \", round(std_err,4))\n",
    "print(\"equation: y = \" + str(round(m,4)) + \"*X + \" + str(round(b,4)))"
   ]
  },
  {
   "cell_type": "markdown",
   "id": "c4fd7957-19ac-443d-a4f0-d36b070bc420",
   "metadata": {},
   "source": [
    "So, again, high public interest to the IPO does not translate into more volume, but those that participate during the IPO day push up the price at market open, and also push up the price to a high level during the day."
   ]
  },
  {
   "cell_type": "markdown",
   "id": "3f1b92be-3040-47f6-81ac-11f2d8f54293",
   "metadata": {},
   "source": [
    "## Summary\n",
    "1. There's more interest from the public for IPO in recent years\n",
    "    - with a general trend that we see higher price at market open and during trading day vs previous years.\n",
    "2. Year 2020 we see the market is flush with liquidity, as there is high volume on an IPO counter.\n",
    "3. Higher oversubscription rate does not translate into higher volume on IPO day\n",
    "4. Yet, higher oversubscription rate correlates with:\n",
    "    - higher price at market open\n",
    "    - higher price during trading day\n",
    "    - higher price at market close"
   ]
  }
 ],
 "metadata": {
  "kernelspec": {
   "display_name": "Python 3",
   "language": "python",
   "name": "python3"
  },
  "language_info": {
   "codemirror_mode": {
    "name": "ipython",
    "version": 3
   },
   "file_extension": ".py",
   "mimetype": "text/x-python",
   "name": "python",
   "nbconvert_exporter": "python",
   "pygments_lexer": "ipython3",
   "version": "3.8.8"
  }
 },
 "nbformat": 4,
 "nbformat_minor": 5
}
