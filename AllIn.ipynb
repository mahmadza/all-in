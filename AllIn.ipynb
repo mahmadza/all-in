{
 "cells": [
  {
   "cell_type": "markdown",
   "id": "6ee9b9da-ddb6-4804-98ae-541affc12459",
   "metadata": {},
   "source": [
    "# Analysis of Public Interest on Initial Public Offering (IPO) on Bursa Malaysia"
   ]
  },
  {
   "cell_type": "markdown",
   "id": "42106605-4b39-4359-bdc7-956853436eec",
   "metadata": {},
   "source": [
    "Data were collected from 2018 till 2022"
   ]
  },
  {
   "cell_type": "code",
   "execution_count": 17,
   "id": "98031001-d64d-4e83-b266-d76bb6fcf3d5",
   "metadata": {},
   "outputs": [],
   "source": [
    "import pandas as pd\n",
    "from statistics import stdev\n",
    "import matplotlib.pyplot as plt\n",
    "import numpy as np"
   ]
  },
  {
   "cell_type": "code",
   "execution_count": 18,
   "id": "4d9d2cfa-aaa5-4ef5-81fa-8927f1d910e4",
   "metadata": {},
   "outputs": [
    {
     "data": {
      "text/html": [
       "<div>\n",
       "<style scoped>\n",
       "    .dataframe tbody tr th:only-of-type {\n",
       "        vertical-align: middle;\n",
       "    }\n",
       "\n",
       "    .dataframe tbody tr th {\n",
       "        vertical-align: top;\n",
       "    }\n",
       "\n",
       "    .dataframe thead th {\n",
       "        text-align: right;\n",
       "    }\n",
       "</style>\n",
       "<table border=\"1\" class=\"dataframe\">\n",
       "  <thead>\n",
       "    <tr style=\"text-align: right;\">\n",
       "      <th></th>\n",
       "      <th>TICKER</th>\n",
       "      <th>MARKET</th>\n",
       "      <th>YEAR</th>\n",
       "      <th>LISTPRICE</th>\n",
       "      <th>VOLUMEIPODAY</th>\n",
       "      <th>OPENPRICEIPODAY</th>\n",
       "      <th>HIGHESTPRICEIPODAY</th>\n",
       "      <th>CLOSINGPRICEIPODAY</th>\n",
       "      <th>NEWSHARES</th>\n",
       "      <th>TOTALAPPLICATIONS</th>\n",
       "      <th>...</th>\n",
       "      <th>XBUMIAPPLICATIONS</th>\n",
       "      <th>XBUMIAPPLICATIONSHARES</th>\n",
       "      <th>XBUMIBALLOTINGOSCBED</th>\n",
       "      <th>ELIGPERSONSSHARES</th>\n",
       "      <th>PVPLACEMENTSHARES</th>\n",
       "      <th>OFFERFORSALE</th>\n",
       "      <th>CAPITALRAISED</th>\n",
       "      <th>PUBLICISSUENEWSHARES</th>\n",
       "      <th>ENLARGEDSHARECAPITAL</th>\n",
       "      <th>MARKETCAPONLISTING</th>\n",
       "    </tr>\n",
       "  </thead>\n",
       "  <tbody>\n",
       "    <tr>\n",
       "      <th>0</th>\n",
       "      <td>CORAZA</td>\n",
       "      <td>ACE</td>\n",
       "      <td>2022</td>\n",
       "      <td>0.28</td>\n",
       "      <td>NaN</td>\n",
       "      <td>NaN</td>\n",
       "      <td>NaN</td>\n",
       "      <td>NaN</td>\n",
       "      <td>2140000.0</td>\n",
       "      <td>26781.0</td>\n",
       "      <td>...</td>\n",
       "      <td>14299.0</td>\n",
       "      <td>1.850000e+09</td>\n",
       "      <td>171.40</td>\n",
       "      <td>21400000.0</td>\n",
       "      <td>96400000.0</td>\n",
       "      <td>21400000.0</td>\n",
       "      <td>33000000.0</td>\n",
       "      <td>117800000.0</td>\n",
       "      <td>428300000.0</td>\n",
       "      <td>119900000.0</td>\n",
       "    </tr>\n",
       "    <tr>\n",
       "      <th>1</th>\n",
       "      <td>SENHENG</td>\n",
       "      <td>MAIN</td>\n",
       "      <td>2022</td>\n",
       "      <td>1.07</td>\n",
       "      <td>NaN</td>\n",
       "      <td>NaN</td>\n",
       "      <td>NaN</td>\n",
       "      <td>NaN</td>\n",
       "      <td>30000000.0</td>\n",
       "      <td>16548.0</td>\n",
       "      <td>...</td>\n",
       "      <td>9679.0</td>\n",
       "      <td>2.499200e+08</td>\n",
       "      <td>15.66</td>\n",
       "      <td>22500000.0</td>\n",
       "      <td>149500000.0</td>\n",
       "      <td>139500000.0</td>\n",
       "      <td>NaN</td>\n",
       "      <td>250000000.0</td>\n",
       "      <td>NaN</td>\n",
       "      <td>NaN</td>\n",
       "    </tr>\n",
       "    <tr>\n",
       "      <th>2</th>\n",
       "      <td>TUJUSETIA</td>\n",
       "      <td>MAIN</td>\n",
       "      <td>2021</td>\n",
       "      <td>0.70</td>\n",
       "      <td>1145707.0</td>\n",
       "      <td>0.775</td>\n",
       "      <td>0.875</td>\n",
       "      <td>0.74</td>\n",
       "      <td>NaN</td>\n",
       "      <td>NaN</td>\n",
       "      <td>...</td>\n",
       "      <td>NaN</td>\n",
       "      <td>NaN</td>\n",
       "      <td>NaN</td>\n",
       "      <td>NaN</td>\n",
       "      <td>NaN</td>\n",
       "      <td>NaN</td>\n",
       "      <td>NaN</td>\n",
       "      <td>NaN</td>\n",
       "      <td>NaN</td>\n",
       "      <td>NaN</td>\n",
       "    </tr>\n",
       "    <tr>\n",
       "      <th>3</th>\n",
       "      <td>YENHER</td>\n",
       "      <td>MAIN</td>\n",
       "      <td>2021</td>\n",
       "      <td>0.95</td>\n",
       "      <td>618271.0</td>\n",
       "      <td>0.995</td>\n",
       "      <td>1.000</td>\n",
       "      <td>0.90</td>\n",
       "      <td>NaN</td>\n",
       "      <td>NaN</td>\n",
       "      <td>...</td>\n",
       "      <td>NaN</td>\n",
       "      <td>NaN</td>\n",
       "      <td>NaN</td>\n",
       "      <td>NaN</td>\n",
       "      <td>NaN</td>\n",
       "      <td>NaN</td>\n",
       "      <td>NaN</td>\n",
       "      <td>NaN</td>\n",
       "      <td>NaN</td>\n",
       "      <td>NaN</td>\n",
       "    </tr>\n",
       "    <tr>\n",
       "      <th>4</th>\n",
       "      <td>CTOS</td>\n",
       "      <td>MAIN</td>\n",
       "      <td>2021</td>\n",
       "      <td>1.10</td>\n",
       "      <td>3663593.0</td>\n",
       "      <td>1.500</td>\n",
       "      <td>1.760</td>\n",
       "      <td>1.62</td>\n",
       "      <td>NaN</td>\n",
       "      <td>NaN</td>\n",
       "      <td>...</td>\n",
       "      <td>NaN</td>\n",
       "      <td>NaN</td>\n",
       "      <td>NaN</td>\n",
       "      <td>NaN</td>\n",
       "      <td>NaN</td>\n",
       "      <td>NaN</td>\n",
       "      <td>NaN</td>\n",
       "      <td>NaN</td>\n",
       "      <td>NaN</td>\n",
       "      <td>NaN</td>\n",
       "    </tr>\n",
       "  </tbody>\n",
       "</table>\n",
       "<p>5 rows × 25 columns</p>\n",
       "</div>"
      ],
      "text/plain": [
       "      TICKER MARKET  YEAR  LISTPRICE  VOLUMEIPODAY  OPENPRICEIPODAY  \\\n",
       "0     CORAZA    ACE  2022       0.28           NaN              NaN   \n",
       "1    SENHENG   MAIN  2022       1.07           NaN              NaN   \n",
       "2  TUJUSETIA   MAIN  2021       0.70     1145707.0            0.775   \n",
       "3     YENHER   MAIN  2021       0.95      618271.0            0.995   \n",
       "4       CTOS   MAIN  2021       1.10     3663593.0            1.500   \n",
       "\n",
       "   HIGHESTPRICEIPODAY  CLOSINGPRICEIPODAY   NEWSHARES  TOTALAPPLICATIONS  ...  \\\n",
       "0                 NaN                 NaN   2140000.0            26781.0  ...   \n",
       "1                 NaN                 NaN  30000000.0            16548.0  ...   \n",
       "2               0.875                0.74         NaN                NaN  ...   \n",
       "3               1.000                0.90         NaN                NaN  ...   \n",
       "4               1.760                1.62         NaN                NaN  ...   \n",
       "\n",
       "   XBUMIAPPLICATIONS  XBUMIAPPLICATIONSHARES  XBUMIBALLOTINGOSCBED  \\\n",
       "0            14299.0            1.850000e+09                171.40   \n",
       "1             9679.0            2.499200e+08                 15.66   \n",
       "2                NaN                     NaN                   NaN   \n",
       "3                NaN                     NaN                   NaN   \n",
       "4                NaN                     NaN                   NaN   \n",
       "\n",
       "   ELIGPERSONSSHARES  PVPLACEMENTSHARES  OFFERFORSALE  CAPITALRAISED  \\\n",
       "0         21400000.0         96400000.0    21400000.0     33000000.0   \n",
       "1         22500000.0        149500000.0   139500000.0            NaN   \n",
       "2                NaN                NaN           NaN            NaN   \n",
       "3                NaN                NaN           NaN            NaN   \n",
       "4                NaN                NaN           NaN            NaN   \n",
       "\n",
       "   PUBLICISSUENEWSHARES  ENLARGEDSHARECAPITAL  MARKETCAPONLISTING  \n",
       "0           117800000.0           428300000.0         119900000.0  \n",
       "1           250000000.0                   NaN                 NaN  \n",
       "2                   NaN                   NaN                 NaN  \n",
       "3                   NaN                   NaN                 NaN  \n",
       "4                   NaN                   NaN                 NaN  \n",
       "\n",
       "[5 rows x 25 columns]"
      ]
     },
     "execution_count": 18,
     "metadata": {},
     "output_type": "execute_result"
    }
   ],
   "source": [
    "df = pd.read_csv(\"IPO_2018to2022.csv\")\n",
    "df.head()"
   ]
  },
  {
   "cell_type": "code",
   "execution_count": 19,
   "id": "e8d6b734-2ec9-46e3-8254-1d0e411efc41",
   "metadata": {},
   "outputs": [],
   "source": [
    "# Create following columns:\n",
    "# % difference between list price vs opening price on IPO day\n",
    "# % difference between list price vs highest price on IPO day\n",
    "# % difference between opening price on IPO day vs closing price on IPO day\n",
    "# % difference between opening price on IPO day vs highest price on IPO day\n",
    "\n",
    "df['LISTVSOPENING_PCT'] = df['OPENPRICEIPODAY']/df['LISTPRICE']*100 - 100\n",
    "df['LISTVSHIGHEST_PCT'] = df['HIGHESTPRICEIPODAY']/df['LISTPRICE']*100 - 100\n",
    "\n",
    "df['OPENINGVSCLOSING_PCT'] = df['CLOSINGPRICEIPODAY']/df['OPENPRICEIPODAY']*100 - 100\n",
    "df['OPENINGVSHIGHEST_PCT'] = df['HIGHESTPRICEIPODAY']/df['OPENPRICEIPODAY']*100 - 100"
   ]
  },
  {
   "cell_type": "code",
   "execution_count": 20,
   "id": "2536b955-0f17-4312-8508-16c08d306b55",
   "metadata": {},
   "outputs": [
    {
     "data": {
      "text/plain": [
       "(56, 29)"
      ]
     },
     "execution_count": 20,
     "metadata": {},
     "output_type": "execute_result"
    }
   ],
   "source": [
    "df.shape"
   ]
  },
  {
   "cell_type": "code",
   "execution_count": 21,
   "id": "a96b1bbb-37d6-417e-a8f3-b18be1663683",
   "metadata": {},
   "outputs": [
    {
     "data": {
      "text/plain": [
       "[2018, 2019, 2020, 2021, 2022]"
      ]
     },
     "execution_count": 21,
     "metadata": {},
     "output_type": "execute_result"
    }
   ],
   "source": [
    "# grab all years\n",
    "years = df['YEAR'].unique().tolist()[::-1]\n",
    "years"
   ]
  },
  {
   "cell_type": "markdown",
   "id": "1039bc95-6eae-45e0-b44b-4accab0795cf",
   "metadata": {},
   "source": [
    "## Measuring Subscription Interest: Oversubscription Rate by Year"
   ]
  },
  {
   "cell_type": "markdown",
   "id": "ed35d7d4-119f-460f-9d8d-d22c99380105",
   "metadata": {},
   "source": [
    "### Aggregate, all combined (regardless listing price)"
   ]
  },
  {
   "cell_type": "code",
   "execution_count": 22,
   "id": "a3c759f9-9c3b-414d-8b2a-5eb44eaf4a7a",
   "metadata": {},
   "outputs": [
    {
     "name": "stdout",
     "output_type": "stream",
     "text": [
      "2018(11): median 16.35, mean 16.61, min 1.16, max 43.0\n",
      "2019(15): median 9.41, mean 12.06, min 3.64, max 35.0\n",
      "2020(11): median 15.9, mean 28.52, min 3.91, max 82.0\n",
      "2021(17): median 42.07, mean 65.81, min 13.8, max 176.6\n",
      "2022(2): median 71.47, mean 71.47, min 10.44, max 132.5\n"
     ]
    }
   ],
   "source": [
    "barheight = []\n",
    "barerr = []\n",
    "\n",
    "for year in years:\n",
    "    df_series = df[((df['YEAR']==year))]['TOTALBALLOTINGOSCBED']\n",
    "    count = df_series.count()\n",
    "\n",
    "    median_year = round(df_series.median(),2)\n",
    "    mean_year = round(df_series.mean(),2)\n",
    "    min_year = df_series.min()\n",
    "    max_year = df_series.max()\n",
    "    print(str(year) + '(' + str(count) + '): median ' + str(median_year) + ', mean ' + str(mean_year) + \n",
    "         ', min ' + str(min_year) + ', max ' + str(max_year))\n",
    "        \n",
    "    barheight.append(mean_year)\n",
    "    barerr.append(stdev(df_series))"
   ]
  },
  {
   "cell_type": "code",
   "execution_count": 23,
   "id": "9b0b6af6-49ac-459a-a61e-37496bc39d77",
   "metadata": {},
   "outputs": [
    {
     "data": {
      "image/png": "[encoded data removed]",
      "text/plain": [
       "<Figure size 432x288 with 1 Axes>"
      ]
     },
     "metadata": {
      "needs_background": "light"
     },
     "output_type": "display_data"
    }
   ],
   "source": [
    "fig, ax = plt.subplots()\n",
    "xpos = np.arange(len(barheight))\n",
    "ax.bar(xpos, barheight, yerr=barerr, align='center',\n",
    "       alpha=0.5, ecolor='black', capsize=10)\n",
    "ax.set_xticks(xpos)\n",
    "ax.set_xticklabels(years)\n",
    "ax.set_ylabel('Oversubscription, times')\n",
    "\n",
    "plt.tight_layout()\n",
    "plt.show()"
   ]
  },
  {
   "cell_type": "markdown",
   "id": "8a01ff34-ef11-400d-aaa7-926e8e0b5561",
   "metadata": {},
   "source": [
    "### For listing price at least RM1.00"
   ]
  },
  {
   "cell_type": "code",
   "execution_count": 24,
   "id": "4f8b9e00-9d8f-44f5-bcd4-57271063cc75",
   "metadata": {},
   "outputs": [
    {
     "name": "stdout",
     "output_type": "stream",
     "text": [
      "IPO Oversubscription by year, for listing price >= RM1.00 :\n",
      "2018(1): median 1.16, mean 1.16, min 1.16, max 1.16\n",
      "2019(2): median 4.01, mean 4.01, min 3.64, max 4.39\n",
      "2020(1): median 3.91, mean 3.91, min 3.91, max 3.91\n",
      "2021(3): median 20.27, mean 22.23, min 18.85, max 27.57\n",
      "2022(1): median 10.44, mean 10.44, min 10.44, max 10.44\n"
     ]
    }
   ],
   "source": [
    "print(\"IPO Oversubscription by year, for listing price >= RM1.00 :\")\n",
    "for year in years:\n",
    "    df_series = df[((df['YEAR']==year)  & (df['LISTPRICE']>=1))]['TOTALBALLOTINGOSCBED']\n",
    "    count = df_series.count()\n",
    "\n",
    "    median_year = round(df_series.median(),2)\n",
    "    mean_year = round(df_series.mean(),2)\n",
    "    min_year = df_series.min()\n",
    "    max_year = df_series.max()\n",
    "    print(str(year) + '(' + str(count) + '): median ' + str(median_year) + ', mean ' + str(mean_year) + \n",
    "         ', min ' + str(min_year) + ', max ' + str(max_year))\n"
   ]
  },
  {
   "cell_type": "markdown",
   "id": "2e38bb6c-39b2-473a-9380-d75c9edc73c9",
   "metadata": {},
   "source": [
    "### For listing price below RM1.00"
   ]
  },
  {
   "cell_type": "code",
   "execution_count": 25,
   "id": "05391e05-4c16-463d-bbb6-dca7ce387961",
   "metadata": {},
   "outputs": [
    {
     "name": "stdout",
     "output_type": "stream",
     "text": [
      "2018(10): median 17.68, mean 18.15, min 2.84, max 43.0\n",
      "2019(13): median 11.34, mean 13.3, min 3.84, max 35.0\n",
      "2020(10): median 20.09, mean 30.98, min 10.5, max 82.0\n",
      "2021(14): median 66.56, mean 75.15, min 13.8, max 176.6\n",
      "2022(1): median 132.5, mean 132.5, min 132.5, max 132.5\n"
     ]
    }
   ],
   "source": [
    "barheight = []\n",
    "barerr = []\n",
    "for year in years:\n",
    "    df_series = df[((df['YEAR']==year)  & (df['LISTPRICE']<1))]['TOTALBALLOTINGOSCBED']\n",
    "    count = df_series.count()\n",
    "\n",
    "    median_year = round(df_series.median(),2)\n",
    "    mean_year = round(df_series.mean(),2)\n",
    "    min_year = df_series.min()\n",
    "    max_year = df_series.max()\n",
    "    print(str(year) + '(' + str(count) + '): median ' + str(median_year) + ', mean ' + str(mean_year) + \n",
    "         ', min ' + str(min_year) + ', max ' + str(max_year))\n",
    "    \n",
    "    barheight.append(mean_year)\n",
    "    if count >1:\n",
    "        barerr.append(stdev(df_series))\n",
    "    else:\n",
    "        barerr.append(0)  "
   ]
  },
  {
   "cell_type": "code",
   "execution_count": 26,
   "id": "b6d79a01-3a15-4e50-ba9b-942140e44df6",
   "metadata": {},
   "outputs": [
    {
     "data": {
      "image/png": "[encoded data removed]",
      "text/plain": [
       "<Figure size 432x288 with 1 Axes>"
      ]
     },
     "metadata": {
      "needs_background": "light"
     },
     "output_type": "display_data"
    }
   ],
   "source": [
    "fig, ax = plt.subplots()\n",
    "xpos = np.arange(len(barheight))\n",
    "ax.bar(xpos, barheight, yerr=barerr, align='center',\n",
    "       alpha=0.5, ecolor='black', capsize=10)\n",
    "ax.set_xticks(xpos)\n",
    "ax.set_xticklabels(years)\n",
    "ax.set_ylabel('Oversubscription, times')\n",
    "\n",
    "plt.tight_layout()\n",
    "plt.show()"
   ]
  },
  {
   "cell_type": "markdown",
   "id": "0c26e400-7525-4f0d-ad78-3cc31e9e0ebb",
   "metadata": {},
   "source": [
    "## Measuring Speculative Activity on IPO Day: Volume on IPO day by Year"
   ]
  },
  {
   "cell_type": "markdown",
   "id": "1ac59fb1-6f81-4cc4-8c76-6e12392bc2af",
   "metadata": {},
   "source": [
    "### Aggregate, all combined (regardless listing price)"
   ]
  },
  {
   "cell_type": "code",
   "execution_count": 27,
   "id": "281fe508-42b1-4e14-bc9f-bd8d28b5f91e",
   "metadata": {},
   "outputs": [],
   "source": [
    "# remove 2022 for now\n",
    "del years[-1]"
   ]
  },
  {
   "cell_type": "code",
   "execution_count": 28,
   "id": "c129d9e1-549f-4cc4-bcc3-39cacf756626",
   "metadata": {},
   "outputs": [
    {
     "name": "stdout",
     "output_type": "stream",
     "text": [
      "Volume on IPO day by year:\n",
      "2018(11): median 828043, mean 985777, min 38240, max 1882969\n",
      "2019(15): median 1185984, mean 1602266, min 298350, max 4479182\n",
      "2020(11): median 2070206, mean 2233225, min 1068858, max 4101546\n",
      "2021(17): median 1501863, mean 1722855, min 472273, max 3663593\n"
     ]
    }
   ],
   "source": [
    "print(\"Volume on IPO day by year:\")\n",
    "\n",
    "barheight = []\n",
    "barerr = []\n",
    "\n",
    "for year in years:\n",
    "    df_series = df[((df['YEAR']==year))]['VOLUMEIPODAY']\n",
    "    count = df_series.count()\n",
    "\n",
    "    median_year = round(df_series.median())\n",
    "    mean_year = round(df_series.mean())\n",
    "    min_year = round(df_series.min())\n",
    "    max_year = round(df_series.max())\n",
    "    print(str(year) + '(' + str(count) + '): median ' + str(median_year) + ', mean ' + str(mean_year) + \n",
    "         ', min ' + str(min_year) + ', max ' + str(max_year))\n",
    "    \n",
    "    barheight.append(mean_year)\n",
    "    if count >1:\n",
    "        barerr.append(stdev(df_series))\n",
    "    else:\n",
    "        barerr.append(0)"
   ]
  },
  {
   "cell_type": "code",
   "execution_count": 29,
   "id": "5c309852-63b8-466d-8927-240c39ee9fb7",
   "metadata": {},
   "outputs": [
    {
     "data": {
      "image/png": "[encoded data removed]",
      "text/plain": [
       "<Figure size 432x288 with 1 Axes>"
      ]
     },
     "metadata": {
      "needs_background": "light"
     },
     "output_type": "display_data"
    }
   ],
   "source": [
    "fig, ax = plt.subplots()\n",
    "xpos = np.arange(len(barheight))\n",
    "ax.bar(xpos, barheight, yerr=barerr, align='center',\n",
    "       alpha=0.5, ecolor='black', capsize=10)\n",
    "ax.set_xticks(xpos)\n",
    "ax.set_xticklabels(years)\n",
    "ax.set_ylabel('Volume on IPO day')\n",
    "\n",
    "plt.tight_layout()\n",
    "plt.show()"
   ]
  },
  {
   "cell_type": "markdown",
   "id": "8ab3e093-25ea-42b7-8d84-29417b6eb91c",
   "metadata": {},
   "source": [
    "### For listing price at least RM1.00:"
   ]
  },
  {
   "cell_type": "code",
   "execution_count": 30,
   "id": "7544f4c9-2f9e-4612-8e48-9af2ae1b72d7",
   "metadata": {},
   "outputs": [
    {
     "name": "stdout",
     "output_type": "stream",
     "text": [
      "Volume on IPO day by year, for listing price >=RM1.00:\n",
      "2018(1): median 736832, mean 736832, min 736832, max 736832\n",
      "2019(2): median 1325753, mean 1325753, min 497515, max 2153991\n",
      "2020(1): median 4101546, mean 4101546, min 4101546, max 4101546\n",
      "2021(3): median 1870413, mean 2373199, min 1585591, max 3663593\n"
     ]
    }
   ],
   "source": [
    "print(\"Volume on IPO day by year, for listing price >=RM1.00:\")\n",
    "for year in years:\n",
    "    df_series = df[((df['YEAR']==year) & (df['LISTPRICE']>=1))]['VOLUMEIPODAY']\n",
    "    count = df_series.count()\n",
    "\n",
    "    median_year = round(df_series.median())\n",
    "    mean_year = round(df_series.mean())\n",
    "    min_year = round(df_series.min())\n",
    "    max_year = round(df_series.max())\n",
    "    print(str(year) + '(' + str(count) + '): median ' + str(median_year) + ', mean ' + str(mean_year) + \n",
    "         ', min ' + str(min_year) + ', max ' + str(max_year))\n"
   ]
  },
  {
   "cell_type": "markdown",
   "id": "9f7f217c-ec75-44c5-a34a-c87fe56ad11a",
   "metadata": {},
   "source": [
    "### For listing price less than RM1.00:"
   ]
  },
  {
   "cell_type": "code",
   "execution_count": 31,
   "id": "e22bf4a2-fb28-4e14-9ada-98cd162d9bf3",
   "metadata": {},
   "outputs": [
    {
     "name": "stdout",
     "output_type": "stream",
     "text": [
      "Volume on IPO day by year, for listing price <RM1.00:\n",
      "2018(10): median 853624, mean 1010671\n",
      "2019(13): median 1185984, mean 1644806\n",
      "2020(10): median 1981470, mean 2046393\n",
      "2021(14): median 1300062, mean 1583495\n"
     ]
    }
   ],
   "source": [
    "print(\"Volume on IPO day by year, for listing price <RM1.00:\")\n",
    "\n",
    "barheight = []\n",
    "barerr = []\n",
    "\n",
    "for year in years:\n",
    "    df_series = df[((df['YEAR']==year) & (df['LISTPRICE']<1))]['VOLUMEIPODAY']\n",
    "    count = df_series.count()\n",
    "\n",
    "    median_year = round(df_series.median())\n",
    "    mean_year = round(df_series.mean())\n",
    "    print(str(year) + '(' + str(count) + '): median ' + str(median_year) + ', mean ' + str(mean_year))\n",
    "    \n",
    "    barheight.append(mean_year)\n",
    "    if count >1:\n",
    "        barerr.append(stdev(df_series))\n",
    "    else:\n",
    "        barerr.append(0)"
   ]
  },
  {
   "cell_type": "code",
   "execution_count": 32,
   "id": "e73fb9b3-e1ec-4d55-a23f-4b11b224cf29",
   "metadata": {},
   "outputs": [
    {
     "data": {
      "image/png": "[encoded data removed]",
      "text/plain": [
       "<Figure size 432x288 with 1 Axes>"
      ]
     },
     "metadata": {
      "needs_background": "light"
     },
     "output_type": "display_data"
    }
   ],
   "source": [
    "fig, ax = plt.subplots()\n",
    "xpos = np.arange(len(barheight))\n",
    "ax.bar(xpos, barheight, yerr=barerr, align='center',\n",
    "       alpha=0.5, ecolor='black', capsize=10)\n",
    "ax.set_xticks(xpos)\n",
    "ax.set_xticklabels(years)\n",
    "ax.set_ylabel('Volume on IPO day')\n",
    "\n",
    "plt.tight_layout()\n",
    "plt.show()"
   ]
  },
  {
   "cell_type": "markdown",
   "id": "7d8d58e2-7310-4331-9134-b0b538d46726",
   "metadata": {},
   "source": [
    "## Measuring Speculative Activity on IPO Day: % Difference between Listing vs Opening Price"
   ]
  },
  {
   "cell_type": "code",
   "execution_count": 33,
   "id": "8407228e-d869-4bb3-bc13-68284a0b1673",
   "metadata": {},
   "outputs": [
    {
     "name": "stdout",
     "output_type": "stream",
     "text": [
      "2018(11): median 21.97, mean 30.31, min -18, max 117\n",
      "2019(15): median 13.04, mean 22.67, min -9, max 113\n",
      "2020(11): median 23.21, mean 50.81, min -1, max 154\n",
      "2021(17): median 25.0, mean 59.9, min -29, max 245\n"
     ]
    }
   ],
   "source": [
    "barheight = []\n",
    "barerr = []\n",
    "\n",
    "for year in years:\n",
    "    df_series = df[((df['YEAR']==year))]['LISTVSOPENING_PCT']\n",
    "    count = df_series.count()\n",
    "\n",
    "    median_year = round(df_series.median(),2)\n",
    "    mean_year = round(df_series.mean(),2)\n",
    "    min_year = round(df_series.min())\n",
    "    max_year = round(df_series.max())\n",
    "    print(str(year) + '(' + str(count) + '): median ' + str(median_year) + ', mean ' + str(mean_year) + \n",
    "         ', min ' + str(min_year) + ', max ' + str(max_year))\n",
    "    \n",
    "    barheight.append(mean_year)\n",
    "    if count >1:\n",
    "        barerr.append(stdev(df_series))\n",
    "    else:\n",
    "        barerr.append(0)"
   ]
  },
  {
   "cell_type": "code",
   "execution_count": 34,
   "id": "9c518635-dbe9-4824-8349-0963904e63e1",
   "metadata": {},
   "outputs": [
    {
     "data": {
      "image/png": "[encoded data removed]",
      "text/plain": [
       "<Figure size 432x288 with 1 Axes>"
      ]
     },
     "metadata": {
      "needs_background": "light"
     },
     "output_type": "display_data"
    }
   ],
   "source": [
    "fig, ax = plt.subplots()\n",
    "xpos = np.arange(len(barheight))\n",
    "ax.bar(xpos, barheight, yerr=barerr, align='center',\n",
    "       alpha=0.5, ecolor='black', capsize=10)\n",
    "ax.set_xticks(xpos)\n",
    "ax.set_xticklabels(years)\n",
    "ax.set_ylabel('% difference, Listing vs Opening Price on IPO day')\n",
    "\n",
    "plt.tight_layout()\n",
    "plt.show()"
   ]
  },
  {
   "cell_type": "markdown",
   "id": "0eef127e-665d-426e-98b9-da4b2136413f",
   "metadata": {},
   "source": [
    "## Measuring Speculative Activity on IPO Day: % Difference between Listing vs Highest Price"
   ]
  },
  {
   "cell_type": "code",
   "execution_count": 35,
   "id": "7be57df5-fe3d-4f2e-8d66-fe123966ad26",
   "metadata": {},
   "outputs": [
    {
     "name": "stdout",
     "output_type": "stream",
     "text": [
      "2018(11): median 34.09, mean 51.41, min -9, max 183\n",
      "2019(15): median 27.87, mean 32.22, min -9, max 130\n",
      "2020(11): median 55.36, mean 69.99, min 6, max 163\n",
      "2021(17): median 36.03, mean 76.09, min -13, max 260\n"
     ]
    }
   ],
   "source": [
    "barheight = []\n",
    "barerr = []\n",
    "\n",
    "for year in years:\n",
    "    df_series = df[((df['YEAR']==year))]['LISTVSHIGHEST_PCT']\n",
    "    count = df_series.count()\n",
    "\n",
    "    median_year = round(df_series.median(),2)\n",
    "    mean_year = round(df_series.mean(),2)\n",
    "    min_year = round(df_series.min())\n",
    "    max_year = round(df_series.max())\n",
    "    print(str(year) + '(' + str(count) + '): median ' + str(median_year) + ', mean ' + str(mean_year) + \n",
    "         ', min ' + str(min_year) + ', max ' + str(max_year))\n",
    "\n",
    "    barheight.append(mean_year)\n",
    "    if count >1:\n",
    "        barerr.append(stdev(df_series))\n",
    "    else:\n",
    "        barerr.append(0)"
   ]
  },
  {
   "cell_type": "code",
   "execution_count": 36,
   "id": "cc44fe87-8cae-4deb-867f-dd2b7c2ff6c1",
   "metadata": {},
   "outputs": [
    {
     "data": {
      "image/png": "[encoded data removed]",
      "text/plain": [
       "<Figure size 432x288 with 1 Axes>"
      ]
     },
     "metadata": {
      "needs_background": "light"
     },
     "output_type": "display_data"
    }
   ],
   "source": [
    "fig, ax = plt.subplots()\n",
    "xpos = np.arange(len(barheight))\n",
    "ax.bar(xpos, barheight, yerr=barerr, align='center',\n",
    "       alpha=0.5, ecolor='black', capsize=10)\n",
    "ax.set_xticks(xpos)\n",
    "ax.set_xticklabels(years)\n",
    "ax.set_ylabel('% difference, Listing vs Highest Price on IPO day')\n",
    "\n",
    "plt.tight_layout()\n",
    "plt.show()"
   ]
  },
  {
   "cell_type": "markdown",
   "id": "e58f465f-08bf-49df-b76d-5602848ace9f",
   "metadata": {},
   "source": [
    "## Correlation between Public Interest during subscription vs activity on IPO day"
   ]
  },
  {
   "cell_type": "markdown",
   "id": "a6e6a758-96ad-4dea-8557-cb0ebe96d040",
   "metadata": {},
   "source": [
    "### plot oversubscription vs volume"
   ]
  },
  {
   "cell_type": "code",
   "execution_count": 40,
   "id": "59944f3b-3783-4854-9461-8f9f117bdee6",
   "metadata": {},
   "outputs": [
    {
     "data": {
      "text/plain": [
       "Text(0, 0.5, 'VOLUMEIPODAY')"
      ]
     },
     "execution_count": 40,
     "metadata": {},
     "output_type": "execute_result"
    },
    {
     "data": {
      "image/png": "[encoded data removed]",
      "text/plain": [
       "<Figure size 432x288 with 1 Axes>"
      ]
     },
     "metadata": {
      "needs_background": "light"
     },
     "output_type": "display_data"
    }
   ],
   "source": [
    "x_label = 'TOTALBALLOTINGOSCBED'\n",
    "y_label = 'VOLUMEIPODAY'\n",
    "x = df[x_label]\n",
    "y = df[y_label]\n",
    "fig, ax = plt.subplots()\n",
    "ax.scatter(x,y)\n",
    "\n",
    "ax.set_xlabel(x_label)\n",
    "ax.set_ylabel(y_label)\n"
   ]
  },
  {
   "cell_type": "markdown",
   "id": "24f751d9-4546-4e56-8ad0-59b6acf04999",
   "metadata": {},
   "source": [
    "Doesn't look like there's any correlation: high interest in subscription activity does not translate into high volume on IPO day"
   ]
  },
  {
   "cell_type": "markdown",
   "id": "a0fbec7f-8311-402b-bd6d-763ea8ae9ff6",
   "metadata": {},
   "source": [
    "### plot oversubscription vs %difference listing-to-opening price"
   ]
  },
  {
   "cell_type": "code",
   "execution_count": 47,
   "id": "a94c243e-ac9a-4754-a6b1-1b6582c23e12",
   "metadata": {},
   "outputs": [
    {
     "data": {
      "text/plain": [
       "Text(0, 0.5, 'LISTVSOPENING_PCT')"
      ]
     },
     "execution_count": 47,
     "metadata": {},
     "output_type": "execute_result"
    },
    {
     "data": {
      "image/png": "[encoded data removed]",
      "text/plain": [
       "<Figure size 432x288 with 1 Axes>"
      ]
     },
     "metadata": {
      "needs_background": "light"
     },
     "output_type": "display_data"
    }
   ],
   "source": [
    "x_label = 'TOTALBALLOTINGOSCBED'\n",
    "y_label = 'LISTVSOPENING_PCT'\n",
    "x = df[x_label]\n",
    "y = df[y_label]\n",
    "fig, ax = plt.subplots()\n",
    "ax.scatter(x,y)\n",
    "\n",
    "ax.set_xlabel(x_label)\n",
    "ax.set_ylabel(y_label)"
   ]
  },
  {
   "cell_type": "markdown",
   "id": "5b1ac83d-0729-4177-84dd-fcda648dbbac",
   "metadata": {},
   "source": [
    "Looks like there's a correlation there!"
   ]
  },
  {
   "cell_type": "markdown",
   "id": "4fa57600-290c-41b9-9fcb-6ad247bcb22d",
   "metadata": {},
   "source": [
    "### plot oversubscription vs %difference listing-to-highest price"
   ]
  },
  {
   "cell_type": "code",
   "execution_count": 48,
   "id": "6618d6ae-a638-483b-8ab5-c03f42c7c498",
   "metadata": {},
   "outputs": [
    {
     "data": {
      "text/plain": [
       "Text(0, 0.5, 'LISTVSHIGHEST_PCT')"
      ]
     },
     "execution_count": 48,
     "metadata": {},
     "output_type": "execute_result"
    },
    {
     "data": {
      "image/png": "[encoded data removed]",
      "text/plain": [
       "<Figure size 432x288 with 1 Axes>"
      ]
     },
     "metadata": {
      "needs_background": "light"
     },
     "output_type": "display_data"
    }
   ],
   "source": [
    "x_label = 'TOTALBALLOTINGOSCBED'\n",
    "y_label = 'LISTVSHIGHEST_PCT'\n",
    "x = df[x_label]\n",
    "y = df[y_label]\n",
    "fig, ax = plt.subplots()\n",
    "ax.scatter(x,y)\n",
    "\n",
    "ax.set_xlabel(x_label)\n",
    "ax.set_ylabel(y_label)"
   ]
  },
  {
   "cell_type": "markdown",
   "id": "d8984b1c-f835-4127-96aa-d47645eddcc6",
   "metadata": {},
   "source": [
    "Same for differential with highest price as well, but this could be because opening and highest price is correlated"
   ]
  },
  {
   "cell_type": "code",
   "execution_count": 49,
   "id": "294b0da2-2662-40f6-920b-e4418c3d31f7",
   "metadata": {},
   "outputs": [
    {
     "data": {
      "text/plain": [
       "Text(0, 0.5, 'LISTVSHIGHEST_PCT')"
      ]
     },
     "execution_count": 49,
     "metadata": {},
     "output_type": "execute_result"
    },
    {
     "data": {
      "image/png": "[encoded data removed]",
      "text/plain": [
       "<Figure size 432x288 with 1 Axes>"
      ]
     },
     "metadata": {
      "needs_background": "light"
     },
     "output_type": "display_data"
    }
   ],
   "source": [
    "x_label = 'LISTVSOPENING_PCT'\n",
    "y_label = 'LISTVSHIGHEST_PCT'\n",
    "x = df[x_label]\n",
    "y = df[y_label]\n",
    "fig, ax = plt.subplots()\n",
    "ax.scatter(x,y)\n",
    "\n",
    "ax.set_xlabel(x_label)\n",
    "ax.set_ylabel(y_label)"
   ]
  },
  {
   "cell_type": "markdown",
   "id": "f2abc6a9-6076-4c7b-abec-599586b1ed32",
   "metadata": {},
   "source": [
    "Yes, %list-to-opening price is correlated with %list-to-highest price"
   ]
  },
  {
   "cell_type": "code",
   "execution_count": 53,
   "id": "8c9ea724-ba9d-40c9-a9fd-b7802715e8b2",
   "metadata": {},
   "outputs": [
    {
     "data": {
      "text/plain": [
       "Text(0, 0.5, 'HIGHESTPRICEIPODAY')"
      ]
     },
     "execution_count": 53,
     "metadata": {},
     "output_type": "execute_result"
    },
    {
     "data": {
      "image/png": "[encoded data removed]",
      "text/plain": [
       "<Figure size 432x288 with 1 Axes>"
      ]
     },
     "metadata": {
      "needs_background": "light"
     },
     "output_type": "display_data"
    }
   ],
   "source": [
    "x_label = 'OPENPRICEIPODAY'\n",
    "y_label = 'HIGHESTPRICEIPODAY'\n",
    "x = df[x_label]\n",
    "y = df[y_label]\n",
    "fig, ax = plt.subplots()\n",
    "ax.scatter(x,y)\n",
    "\n",
    "ax.set_xlabel(x_label)\n",
    "ax.set_ylabel(y_label)"
   ]
  },
  {
   "cell_type": "code",
   "execution_count": 54,
   "id": "366b43d7-ad8d-4a2f-8d17-cef98831a53e",
   "metadata": {},
   "outputs": [
    {
     "data": {
      "text/plain": [
       "Text(0, 0.5, 'CLOSINGPRICEIPODAY')"
      ]
     },
     "execution_count": 54,
     "metadata": {},
     "output_type": "execute_result"
    },
    {
     "data": {
      "image/png": "[encoded data removed]",
      "text/plain": [
       "<Figure size 432x288 with 1 Axes>"
      ]
     },
     "metadata": {
      "needs_background": "light"
     },
     "output_type": "display_data"
    }
   ],
   "source": [
    "x_label = 'OPENPRICEIPODAY'\n",
    "y_label = 'CLOSINGPRICEIPODAY'\n",
    "x = df[x_label]\n",
    "y = df[y_label]\n",
    "fig, ax = plt.subplots()\n",
    "ax.scatter(x,y)\n",
    "\n",
    "ax.set_xlabel(x_label)\n",
    "ax.set_ylabel(y_label)"
   ]
  },
  {
   "cell_type": "code",
   "execution_count": 55,
   "id": "e08870e3-983d-4e1a-97c0-022d85316ea3",
   "metadata": {},
   "outputs": [
    {
     "data": {
      "text/plain": [
       "Text(0, 0.5, 'CLOSINGPRICEIPODAY')"
      ]
     },
     "execution_count": 55,
     "metadata": {},
     "output_type": "execute_result"
    },
    {
     "data": {
      "image/png": "[encoded data removed]",
      "text/plain": [
       "<Figure size 432x288 with 1 Axes>"
      ]
     },
     "metadata": {
      "needs_background": "light"
     },
     "output_type": "display_data"
    }
   ],
   "source": [
    "x_label = 'HIGHESTPRICEIPODAY'\n",
    "y_label = 'CLOSINGPRICEIPODAY'\n",
    "x = df[x_label]\n",
    "y = df[y_label]\n",
    "fig, ax = plt.subplots()\n",
    "ax.scatter(x,y)\n",
    "\n",
    "ax.set_xlabel(x_label)\n",
    "ax.set_ylabel(y_label)"
   ]
  },
  {
   "cell_type": "code",
   "execution_count": null,
   "id": "875220e4-4f99-4a71-bd1b-9bad68feb4b6",
   "metadata": {},
   "outputs": [],
   "source": []
  },
  {
   "cell_type": "code",
   "execution_count": null,
   "id": "325c621a-d6be-4d0a-a50b-37197a9a7faa",
   "metadata": {},
   "outputs": [],
   "source": []
  },
  {
   "cell_type": "code",
   "execution_count": 56,
   "id": "17fcbfb6-196b-4a5a-ab40-b5183d53ed50",
   "metadata": {},
   "outputs": [
    {
     "data": {
      "text/plain": [
       "Text(0, 0.5, 'OPENINGVSCLOSING_PCT')"
      ]
     },
     "execution_count": 56,
     "metadata": {},
     "output_type": "execute_result"
    },
    {
     "data": {
      "image/png": "[encoded data removed]",
      "text/plain": [
       "<Figure size 432x288 with 1 Axes>"
      ]
     },
     "metadata": {
      "needs_background": "light"
     },
     "output_type": "display_data"
    }
   ],
   "source": [
    "x_label = 'TOTALBALLOTINGOSCBED'\n",
    "y_label = 'OPENINGVSCLOSING_PCT'\n",
    "x = df[x_label]\n",
    "y = df[y_label]\n",
    "fig, ax = plt.subplots()\n",
    "ax.scatter(x,y)\n",
    "\n",
    "ax.set_xlabel(x_label)\n",
    "ax.set_ylabel(y_label)"
   ]
  },
  {
   "cell_type": "code",
   "execution_count": null,
   "id": "95de6b10-d723-4ccb-b1fd-df60020b8b14",
   "metadata": {},
   "outputs": [],
   "source": []
  },
  {
   "cell_type": "code",
   "execution_count": null,
   "id": "b157cceb-5b7b-4b91-8609-b9f17251617c",
   "metadata": {},
   "outputs": [],
   "source": []
  },
  {
   "cell_type": "code",
   "execution_count": null,
   "id": "9b26f2ad-76ac-479a-ae1c-96d343bb7a93",
   "metadata": {},
   "outputs": [],
   "source": []
  },
  {
   "cell_type": "code",
   "execution_count": null,
   "id": "07cb5755-8ca4-400c-9347-9c8bd54106db",
   "metadata": {},
   "outputs": [],
   "source": []
  },
  {
   "cell_type": "code",
   "execution_count": null,
   "id": "fa6ac5bc-a407-4722-9f12-ee52981222e3",
   "metadata": {},
   "outputs": [],
   "source": []
  },
  {
   "cell_type": "code",
   "execution_count": 7,
   "id": "a0b4f143-343f-44ee-9b4d-4962acfe4b4f",
   "metadata": {},
   "outputs": [
    {
     "data": {
      "image/png": "[encoded data removed]",
      "text/plain": [
       "<Figure size 576x576 with 2 Axes>"
      ]
     },
     "metadata": {
      "needs_background": "light"
     },
     "output_type": "display_data"
    }
   ],
   "source": [
    "import matplotlib.pyplot as plt\n",
    "from seaborn import heatmap\n",
    "fig, ax = plt.subplots(figsize=(8,8))\n",
    "ax = heatmap(X.corr(), fmt = '.2f',\n",
    "            annot = True)"
   ]
  },
  {
   "cell_type": "code",
   "execution_count": null,
   "id": "58811fd3-9e4c-4b5c-9608-7e898b49e36a",
   "metadata": {},
   "outputs": [],
   "source": []
  },
  {
   "cell_type": "code",
   "execution_count": null,
   "id": "033d2934-86e0-40f2-b009-a323c6f76c8d",
   "metadata": {
    "tags": []
   },
   "outputs": [],
   "source": []
  }
 ],
 "metadata": {
  "kernelspec": {
   "display_name": "Python 3 (ipykernel)",
   "language": "python",
   "name": "python3"
  },
  "language_info": {
   "codemirror_mode": {
    "name": "ipython",
    "version": 3
   },
   "file_extension": ".py",
   "mimetype": "text/x-python",
   "name": "python",
   "nbconvert_exporter": "python",
   "pygments_lexer": "ipython3",
   "version": "3.7.11"
  }
 },
 "nbformat": 4,
 "nbformat_minor": 5
}
